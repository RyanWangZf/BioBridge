{
 "cells": [
  {
   "cell_type": "code",
   "execution_count": 1,
   "id": "981a5a17",
   "metadata": {},
   "outputs": [],
   "source": [
    "import pandas as pd\n",
    "df = pd.read_csv(\"disease.csv\")"
   ]
  },
  {
   "cell_type": "code",
   "execution_count": 5,
   "id": "7fddeebc",
   "metadata": {},
   "outputs": [
    {
     "data": {
      "text/plain": [
       "mondo_definition        8679\n",
       "umls_description       14165\n",
       "orphanet_definition    28899\n",
       "dtype: int64"
      ]
     },
     "execution_count": 5,
     "metadata": {},
     "output_type": "execute_result"
    }
   ],
   "source": [
    "df[[\"mondo_definition\", \"umls_description\", \"orphanet_definition\"]].isnull().sum(axis=0)"
   ]
  },
  {
   "cell_type": "code",
   "execution_count": 7,
   "id": "9055b22e",
   "metadata": {},
   "outputs": [
    {
     "data": {
      "text/plain": [
       "0"
      ]
     },
     "execution_count": 7,
     "metadata": {},
     "output_type": "execute_result"
    }
   ],
   "source": [
    "df[\"mondo_name\"].isnull().sum()"
   ]
  },
  {
   "cell_type": "code",
   "execution_count": 12,
   "id": "c4f04e89",
   "metadata": {},
   "outputs": [
    {
     "data": {
      "text/html": [
       "<div>\n",
       "<style scoped>\n",
       "    .dataframe tbody tr th:only-of-type {\n",
       "        vertical-align: middle;\n",
       "    }\n",
       "\n",
       "    .dataframe tbody tr th {\n",
       "        vertical-align: top;\n",
       "    }\n",
       "\n",
       "    .dataframe thead th {\n",
       "        text-align: right;\n",
       "    }\n",
       "</style>\n",
       "<table border=\"1\" class=\"dataframe\">\n",
       "  <thead>\n",
       "    <tr style=\"text-align: right;\">\n",
       "      <th></th>\n",
       "      <th>mondo_definition</th>\n",
       "      <th>umls_description</th>\n",
       "      <th>orphanet_definition</th>\n",
       "    </tr>\n",
       "  </thead>\n",
       "  <tbody>\n",
       "    <tr>\n",
       "      <th>count</th>\n",
       "      <td>44133.000000</td>\n",
       "      <td>44133.000000</td>\n",
       "      <td>44133.000000</td>\n",
       "    </tr>\n",
       "    <tr>\n",
       "      <th>mean</th>\n",
       "      <td>191.096005</td>\n",
       "      <td>183.789341</td>\n",
       "      <td>125.145379</td>\n",
       "    </tr>\n",
       "    <tr>\n",
       "      <th>std</th>\n",
       "      <td>197.629550</td>\n",
       "      <td>329.211224</td>\n",
       "      <td>199.897138</td>\n",
       "    </tr>\n",
       "    <tr>\n",
       "      <th>min</th>\n",
       "      <td>0.000000</td>\n",
       "      <td>0.000000</td>\n",
       "      <td>0.000000</td>\n",
       "    </tr>\n",
       "    <tr>\n",
       "      <th>25%</th>\n",
       "      <td>48.000000</td>\n",
       "      <td>0.000000</td>\n",
       "      <td>0.000000</td>\n",
       "    </tr>\n",
       "    <tr>\n",
       "      <th>50%</th>\n",
       "      <td>137.000000</td>\n",
       "      <td>105.000000</td>\n",
       "      <td>0.000000</td>\n",
       "    </tr>\n",
       "    <tr>\n",
       "      <th>75%</th>\n",
       "      <td>273.000000</td>\n",
       "      <td>257.000000</td>\n",
       "      <td>234.000000</td>\n",
       "    </tr>\n",
       "    <tr>\n",
       "      <th>max</th>\n",
       "      <td>2946.000000</td>\n",
       "      <td>6256.000000</td>\n",
       "      <td>1390.000000</td>\n",
       "    </tr>\n",
       "  </tbody>\n",
       "</table>\n",
       "</div>"
      ],
      "text/plain": [
       "       mondo_definition  umls_description  orphanet_definition\n",
       "count      44133.000000      44133.000000         44133.000000\n",
       "mean         191.096005        183.789341           125.145379\n",
       "std          197.629550        329.211224           199.897138\n",
       "min            0.000000          0.000000             0.000000\n",
       "25%           48.000000          0.000000             0.000000\n",
       "50%          137.000000        105.000000             0.000000\n",
       "75%          273.000000        257.000000           234.000000\n",
       "max         2946.000000       6256.000000          1390.000000"
      ]
     },
     "execution_count": 12,
     "metadata": {},
     "output_type": "execute_result"
    }
   ],
   "source": [
    "df[[\"mondo_definition\", \"umls_description\", \"orphanet_definition\"]].fillna(\"\").applymap(len).describe()"
   ]
  },
  {
   "cell_type": "code",
   "execution_count": 16,
   "id": "9943e315",
   "metadata": {},
   "outputs": [],
   "source": [
    "# fill mondo_definition's NaN with umls_description or orphanet_definition is the other two are not Null\n",
    "df[\"definition\"] = df[\"mondo_definition\"].fillna(df[\"umls_description\"])"
   ]
  },
  {
   "cell_type": "code",
   "execution_count": 18,
   "id": "8c0cc9a2",
   "metadata": {},
   "outputs": [],
   "source": [
    "df[\"definition\"] = df[\"definition\"].fillna(df[\"orphanet_definition\"])"
   ]
  },
  {
   "cell_type": "code",
   "execution_count": 19,
   "id": "47570a93",
   "metadata": {},
   "outputs": [
    {
     "data": {
      "text/plain": [
       "5405"
      ]
     },
     "execution_count": 19,
     "metadata": {},
     "output_type": "execute_result"
    }
   ],
   "source": [
    "df[\"definition\"].isnull().sum()"
   ]
  },
  {
   "cell_type": "code",
   "execution_count": 22,
   "id": "724d96c6",
   "metadata": {},
   "outputs": [],
   "source": [
    "df[[\"node_index\",\"mondo_id\",\"mondo_name\",\"definition\"]].to_csv(\"disease_cleaned.csv\", index=False)"
   ]
  },
  {
   "cell_type": "code",
   "execution_count": null,
   "id": "935d5127",
   "metadata": {},
   "outputs": [],
   "source": []
  }
 ],
 "metadata": {
  "kernelspec": {
   "display_name": "Python 3 (ipykernel)",
   "language": "python",
   "name": "python3"
  },
  "language_info": {
   "codemirror_mode": {
    "name": "ipython",
    "version": 3
   },
   "file_extension": ".py",
   "mimetype": "text/x-python",
   "name": "python",
   "nbconvert_exporter": "python",
   "pygments_lexer": "ipython3",
   "version": "3.9.16"
  }
 },
 "nbformat": 4,
 "nbformat_minor": 5
}
