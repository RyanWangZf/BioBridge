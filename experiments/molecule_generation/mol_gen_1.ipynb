{
 "cells": [
  {
   "cell_type": "markdown",
   "id": "4c9005fe-a375-40b6-92cc-4d2ca554f342",
   "metadata": {},
   "source": [
    "# Generate protein with Galactica + retrieval"
   ]
  },
  {
   "cell_type": "markdown",
   "id": "5b03e1ce-683a-4f6e-a18c-30aec6c5d8bb",
   "metadata": {},
   "source": [
    "## Retrieve associated with proteins with the input condition"
   ]
  },
  {
   "cell_type": "code",
   "execution_count": 2,
   "id": "e256438c-4598-47b7-9a9f-7546d27f3412",
   "metadata": {},
   "outputs": [],
   "source": [
    "import pandas as pd\n",
    "import os, json\n",
    "os.environ[\"CUDA_VISIBLE_DEVICES\"] = \"2,3,4,5,6,7\"\n",
    "import torch\n",
    "import numpy as np\n",
    "# retrieve relevant proteins by inputting the target disease\n",
    "input_disease = \"malignant lymphoma\""
   ]
  },
  {
   "cell_type": "code",
   "execution_count": 3,
   "id": "85f401f2-a9d5-4a9e-a47c-b23fae925b4c",
   "metadata": {},
   "outputs": [],
   "source": [
    "df_dis = pd.read_csv(\"./data/Processed/disease.csv\")"
   ]
  },
  {
   "cell_type": "code",
   "execution_count": 4,
   "id": "c451d2d3-cdbb-463a-aedb-b06a84432be0",
   "metadata": {},
   "outputs": [
    {
     "data": {
      "text/plain": [
       "node_index                                                35970\n",
       "mondo_id                                                   5062\n",
       "mondo_name                                             lymphoma\n",
       "definition    A malignant (clonal) proliferation of B- lymph...\n",
       "Name: 13433, dtype: object"
      ]
     },
     "execution_count": 4,
     "metadata": {},
     "output_type": "execute_result"
    }
   ],
   "source": [
    "dis = df_dis[df_dis[\"mondo_id\"] == 5062].iloc[0]\n",
    "dis"
   ]
  },
  {
   "cell_type": "code",
   "execution_count": 4,
   "id": "c176438d-0e2c-49aa-b287-9b30105351a1",
   "metadata": {},
   "outputs": [
    {
     "data": {
      "text/plain": [
       "dict_keys(['node_index', 'embedding'])"
      ]
     },
     "execution_count": 4,
     "metadata": {},
     "output_type": "execute_result"
    }
   ],
   "source": [
    "# load dis emb\n",
    "import pickle\n",
    "with open(\"/home/ec2-user/data/embeddings/esm2b_unimo_pubmedbert/disease.pkl\",\"rb\") as f:\n",
    "    raw_dis = pickle.load(f)\n",
    "raw_dis.keys()"
   ]
  },
  {
   "cell_type": "code",
   "execution_count": 5,
   "id": "6498f111-1bc6-489e-a399-5fa35bda524e",
   "metadata": {},
   "outputs": [],
   "source": [
    "dis_node_index = np.array(raw_dis[\"node_index\"])\n",
    "dis_node_emb =  np.array(raw_dis[\"embedding\"])"
   ]
  },
  {
   "cell_type": "code",
   "execution_count": 6,
   "id": "6e91d17e-01cc-465d-8a30-f9171a5e452c",
   "metadata": {},
   "outputs": [
    {
     "data": {
      "text/plain": [
       "(17080, 768)"
      ]
     },
     "execution_count": 6,
     "metadata": {},
     "output_type": "execute_result"
    }
   ],
   "source": [
    "dis_node_emb.shape"
   ]
  },
  {
   "cell_type": "code",
   "execution_count": 7,
   "id": "46884c0d-c209-44b0-a081-b6d9f1537633",
   "metadata": {},
   "outputs": [],
   "source": [
    "dis_raw_emb = dis_node_emb[dis_node_index==dis[\"node_index\"]]"
   ]
  },
  {
   "cell_type": "code",
   "execution_count": 8,
   "id": "553e7838-c25d-4cd3-a450-8b684c00c827",
   "metadata": {},
   "outputs": [],
   "source": [
    "# load bridge model\n",
    "from src.model import BindingModel\n",
    "from src.inference import BridgeInference\n",
    "checkpoint_dir = \"./checkpoints/bind-openke-benchmark-6-layer-unimol\"\n",
    "with open(os.path.join(checkpoint_dir, \"model_config.json\"), \"r\") as f:\n",
    "    model_config = json.load(f)\n",
    "model = BindingModel(**model_config)\n",
    "model.load_state_dict(torch.load(os.path.join(checkpoint_dir, \"pytorch_model.bin\")))\n",
    "model = BridgeInference(model)"
   ]
  },
  {
   "cell_type": "code",
   "execution_count": 9,
   "id": "630b3130-d387-4370-b89d-e98a44ff4fa2",
   "metadata": {},
   "outputs": [],
   "source": [
    "# transform disease emb to protein space\n",
    "tr_pro_emb = model.transform(\n",
    "    x = torch.tensor(dis_raw_emb),\n",
    "    src_type = 2, # disease\n",
    "    tgt_type = 1, # protein\n",
    "    rel_type = 6, # associate with\n",
    ")"
   ]
  },
  {
   "cell_type": "code",
   "execution_count": 10,
   "id": "d8aedba8-2576-46f4-9c29-71de916b1075",
   "metadata": {},
   "outputs": [],
   "source": [
    "# load pre-encoded protein embeddings and project for retrieval\n",
    "with open(\"./data/embeddings/esm2b_unimo_pubmedbert/protein.pkl\", \"rb\") as f:\n",
    "    pro_raw = pickle.load(f)\n",
    "pro_emb = torch.tensor(pro_raw[\"embedding\"], dtype=torch.float32)\n",
    "pro_emb = model.project(\n",
    "    x = pro_emb,\n",
    "    src_type = 1,\n",
    ")\n",
    "pro_idx = torch.tensor(pro_raw[\"node_index\"])\n",
    "df_pro = pd.read_csv(\"/home/ec2-user/data/Processed/protein.csv\")"
   ]
  },
  {
   "cell_type": "code",
   "execution_count": 11,
   "id": "bcdbb924-ecc7-4a22-b12d-c38898ebebe5",
   "metadata": {},
   "outputs": [],
   "source": [
    "def retrieve_topk_protein(tgt, topk=10):\n",
    "    \"\"\"Args:\n",
    "    tgt: emb with [1, dim]\n",
    "    \"\"\"\n",
    "    cossim = torch.cosine_similarity(tgt, pro_emb, dim=1)\n",
    "    top_k = torch.topk(cossim, k=topk, dim=0)\n",
    "    retrieved = df_pro.set_index('node_index').loc[pro_idx[top_k.indices].numpy()]\n",
    "    return retrieved"
   ]
  },
  {
   "cell_type": "code",
   "execution_count": 12,
   "id": "80035df2-fc49-40a6-8085-ae8eaa2f8e5b",
   "metadata": {},
   "outputs": [
    {
     "name": "stdout",
     "output_type": "stream",
     "text": [
      "MTHFR\n",
      "BCL2\n",
      "TYMS\n",
      "CAT\n",
      "CASP8\n",
      "CSF3\n",
      "CDKN2A\n",
      "CDKN2A\n",
      "TP53\n",
      "CREBBP\n",
      "SOD2\n",
      "PRDM1\n",
      "FAS\n",
      "STAT3\n",
      "BHMT\n",
      "PIK3CA\n",
      "IL2\n",
      "BCL6\n",
      "MALT1\n",
      "BCL10\n",
      "MYD88\n",
      "MVNEARGNSSLNPCLEGSASSGSESSKDSSRCSTPGLDPERHERLREKMRRRLESGDKWFSLEFFPPRTAEGAVNLISRFDRMAAGGPLYIDVTWHPAGDPGSDKETSSMMIASTAVNYCGLETILHMTCCRQRLEEITGHLHKAKQLGLKNIMALRGDPIGDQWEEEEGGFNYAVDLVKHIRSEFGDYFDICVAGYPKGHPEAGSFEADLKHLKEKVSAGADFIITQLFFEADTFFRFVKACTDMGITCPIVPGIFPIQGYHSLRQLVKLSKLEVPQEIKDVIEPIKDNDAAIRNYGIELAVSLCQELLASGLVPGLHFYTLNREMATTEVLKRLGMWTEDPRRPLPWALSAHPKRREEDVRPIFWASRPKSYIYRTQEWDEFPNGRWGNSSSPAFGELKDYYLFYLKSKSPKEELLKMWGEELTSEESVFEVFVLYLSGEPNRNGHKVTCLPWNDEPLAAETSLLKEELLRVNRQGILTINSQPNINGKPSSDPIVGWGPSGGYVFQKAYLEFFTSRETAEALLQVLKKYELRVNYHLVNVKGENITNAPELQPNAVTWGIFPGREIIQPTVVDPVSFMFWKDEAFALWIERWGKLYEEESPSRTIIQYIHDNYFLVNLVDNDFPLDNCLWQVVEDTLELLNRPTQNARETEAP\n",
      "MAHAGRTGYDNREIVMKYIHYKLSQRGYEWDAGDVGAAPPGAAPAPGIFSSQPGHTPHPAASRDPVARTSPLQTPAAPGAAAGPALSPVPPVVHLTLRQAGDDFSRRYRRDFAEMSSQLHLTPFTARGRFATVVEELFRDGVNWGRIVAFFEFGGVMCVESVNREMSPLVDNIALWMTEYLNRHLHTWIQDNGGWDAFVELYGPSMRPLFDFSWLSLKTLLSLALVGACITLGAYLGHK\n",
      "MPVAGSELPRRPLPPAAQERDAEPRPPHGELQYLGQIQHILRCGVRKDDRTGTGTLSVFGMQARYSLRDEFPLLTTKRVFWKGVLEELLWFIKGSTNAKELSSKGVKIWDANGSRDFLDSLGFSTREEGDLGPVYGFQWRHFGAEYRDMESDYSGQGVDQLQRVIDTIKTNPDDRRIIMCAWNPRDLPLMALPPCHALCQFYVVNSELSCQLYQRSGDMGLGVPFNIASYALLTYMIAHITGLKPGDFIHTLGDAHIYLNHIEPLKIQLQREPRPFPKLRILRKVEKIDDFKAEDFQIEGYNPHPTIKMEMAV\n",
      "MADSRDPASDQMQHWKEQRAAQKADVLTTGAGNPVGDKLNVITVGPRGPLLVQDVVFTDEMAHFDRERIPERVVHAKGAGAFGYFEVTHDITKYSKAKVFEHIGKKTPIAVRFSTVAGESGSADTVRDPRGFAVKFYTEDGNWDLVGNNTPIFFIRDPILFPSFIHSQKRNPQTHLKDPDMVWDFWSLRPESLHQVSFLFSDRGIPDGHRHMNGYGSHTFKLVNANGEAVYCKFHYKTDQGIKNLSVEDAARLSQEDPDYGIRDLFNAIATGKYPSWTFYIQVMTFNQAETFPFNPFDLTKVWPHKDYPLIPVGKLVLNRNPVNYFAEVEQIAFDPSNMPPGIEASPDKMLQGRLFAYPDTHRHRLGPNYLHIPVNCPYRARVANYQRDGPMCMQDNQGGAPNYYPNSFGAPEQQPSALEHSIQYSGEVRRFNTANDDNVTQVRAFYVNVLNEEQRKRLCENIAGHLKDAQIFIQKKAVKNFTEVHPDYGSHIQALLDKYNAEKPKNAIHTFVQSGSHLAAREKANL\n",
      "MDFSRNLYDIGEQLDSEDLASLKFLSLDYIPQRKQEPIKDALMLFQRLQEKRMLEESNLSFLKELLFRINRLDLLITYLNTRKEEMERELQTPGRAQISAYRVMLYQISEEVSRSELRSFKFLLQEEISKCKLDDDMNLLDIFIEMEKRVILGEGKLDILKRVCAQINKSLLKIINDYEEFSKERSSSLEGSPDEFSNGEELCGVMTISDSPREQDSESQTLDKVYQMKSKPRGYCLIINNHNFAKAREKVPKLHSIRDRNGTHLDAGALTTTFEELHFEIKPHDDCTVEQIYEILKIYQLMDHSNMDCFICCILSHGDKGIIYGTDGQEAPIYELTSQFTGLKCPSLAGKPKVFFIQACQGDNYQKGIPVETDSEEQPYLEMDLSSPQTRYIPDEADFLLGMATVNNCVSYRNPAEGTWYIQSLCQSLRERCPRGDDILTILTEVNYEVSNKDDKKNMGKQMPQPTFTLRKKLVFPSD\n",
      "MAGPATQSPMKLMALQLLLWHSALWTVQEATPLGPASSLPQSFLLKCLEQVRKIQGDGAALQEKLVSECATYKLCHPEELVLLGHSLGIPWAPLSSCPSQALQLAGCLSQLHSGLFLYQGLLQALEGISPELGPTLDTLQLDVADFATTIWQQMEELGMAPALQPTQGAMPAFASAFQRRAGGVLVASHLQSFLEVSYRVLRHLAQP\n",
      "MEPAAGSSMEPSADWLATAAARGRVEEVRALLEAGALPNAPNSYGRRPIQVMMMGSARVAELLLLHGAEPNCADPATLTRPVHDAAREGFLDTLVVLHRAGARLDVRDAWGRLPVDLAEELGHRDVARYLRAAAGGTRGSNHARIDAAEGPSDIPD\n",
      "MVRRFLVTLRIRRACGPPRVRVFVVHIPRLTGEWAAPGAPAAVALVLMLLRSQRLGQQPLPRRPGHDDGQRPSGGAAAAPRRGAQLRRPRHSHPTRARRCPGGLPGHAGGAAPGRGAAGRARCLGPSARGPG\n",
      "MEEPQSDPSVEPPLSQETFSDLWKLLPENNVLSPLPSQAMDDLMLSPDDIEQWFTEDPGPDEAPRMPEAAPPVAPAPAAPTPAAPAPAPSWPLSSSVPSQKTYQGSYGFRLGFLHSGTAKSVTCTYSPALNKMFCQLAKTCPVQLWVDSTPPPGTRVRAMAIYKQSQHMTEVVRRCPHHERCSDSDGLAPPQHLIRVEGNLRVEYLDDRNTFRHSVVVPYEPPEVGSDCTTIHYNYMCNSSCMGGMNRRPILTIITLEDSSGNLLGRNSFEVRVCACPGRDRRTEEENLRKKGEPHHELPPGSTKRALPNNTSSSPQPKKKPLDGEYFTLQIRGRERFEMFRELNEALELKDAQAGKEPGGSRAHSSHLKSKKGQSTSRHKKLMFKTEGPDSD\n",
      "MAENLLDGPPNPKRAKLSSPGFSANDSTDFGSLFDLENDLPDELIPNGGELGLLNSGNLVPDAASKHKQLSELLRGGSGSSINPGIGNVSASSPVQQGLGGQAQGQPNSANMASLSAMGKSPLSQGDSSAPSLPKQAASTSGPTPAASQALNPQAQKQVGLATSSPATSQTGPGICMNANFNQTHPGLLNSNSGHSLINQASQGQAQVMNGSLGAAGRGRGAGMPYPTPAMQGASSSVLAETLTQVSPQMTGHAGLNTAQAGGMAKMGITGNTSPFGQPFSQAGGQPMGATGVNPQLASKQSMVNSLPTFPTDIKNTSVTNVPNMSQMQTSVGIVPTQAIATGPTADPEKRKLIQQQLVLLLHAHKCQRREQANGEVRACSLPHCRTMKNVLNHMTHCQAGKACQVAHCASSRQIISHWKNCTRHDCPVCLPLKNASDKRNQQTILGSPASGIQNTIGSVGTGQQNATSLSNPNPIDPSSMQRAYAALGLPYMNQPQTQLQPQVPGQQPAQPQTHQQMRTLNPLGNNPMNIPAGGITTDQQPPNLISESALPTSLGATNPLMNDGSNSGNIGTLSTIPTAAPPSSTGVRKGWHEHVTQDLRSHLVHKLVQAIFPTPDPAALKDRRMENLVAYAKKVEGDMYESANSRDEYYHLLAEKIYKIQKELEEKRRSRLHKQGILGNQPALPAPGAQPPVIPQAQPVRPPNGPLSLPVNRMQVSQGMNSFNPMSLGNVQLPQAPMGPRAASPMNHSVQMNSMGSVPGMAISPSRMPQPPNMMGAHTNNMMAQAPAQSQFLPQNQFPSSSGAMSVGMGQPPAQTGVSQGQVPGAALPNPLNMLGPQASQLPCPPVTQSPLHPTPPPASTAAGMPSLQHTTPPGMTPPQPAAPTQPSTPVSSSGQTPTPTPGSVPSATQTQSTPTVQAAAQAQVTPQPQTPVQPPSVATPQSSQQQPTPVHAQPPGTPLSQAAASIDNRVPTPSSVASAETNSQQPGPDVPVLEMKTETQAEDTEPDPGESKGEPRSEMMEEDLQGASQVKEETDIAEQKSEPMEVDEKKPEVKVEVKEEEESSSNGTASQSTSPSQPRKKIFKPEELRQALMPTLEALYRQDPESLPFRQPVDPQLLGIPDYFDIVKNPMDLSTIKRKLDTGQYQEPWQYVDDVWLMFNNAWLYNRKTSRVYKFCSKLAEVFEQEIDPVMQSLGYCCGRKYEFSPQTLCCYGKQLCTIPRDAAYYSYQNRYHFCEKCFTEIQGENVTLGDDPSQPQTTISKDQFEKKKNDTLDPEPFVDCKECGRKMHQICVLHYDIIWPSGFVCDNCLKKTGRPRKENKFSAKRLQTTRLGNHLEDRVNKFLRRQNHPEAGEVFVRVVASSDKTVEVKPGMKSRFVDSGEMSESFPYRTKALFAFEEIDGVDVCFFGMHVQEYGSDCPPPNTRRVYISYLDSIHFFRPRCLRTAVYHEILIGYLEYVKKLGYVTGHIWACPPSEGDDYIFHCHPPDQKIPKPKRLQEWYKKMLDKAFAERIIHDYKDIFKQATEDRLTSAKELPYFEGDFWPNVLEESIKELEQEEEERKKEESTAASETTEGSQGDSKNAKKKNNKKTNKNKSSISRANKKKPSMPNVSNDLSQKLYATMEKHKEVFFVIHLHAGPVINTLPPIVDPDPLLSCDLMDGRDAFLTLARDKHWEFSSLRRSKWSTLCMLVELHTQGQDRFVYTCNECKHHVETRWHCTVCEDYDLCINCYNTKSHAHKMVKWGLGLDDEGSSQGEPQSKSPQESRRLSIQRCIQSLVHACQCRNANCSLPSCQKMKRVVQHTKGCKRKTNGGCPVCKQLIALCCYHAKHCQENKCPVPFCLNIKHKLRQQQIQHRLQQAQLMRRRMATMNTRNVPQQSLPSPTSAPPGTPTQQPSTPQTPQPPAQPQPSPVSMSPAGFPSVARTQPPTTVSTGKPTSQVPAPPPPAQPPPAAVEAARQIEREAQQQQHLYRVNINNSMPPGRTGMGTPGSQMAPVSLNVPRPNQVSGPVMPSMPPGQWQQAPLPQQQPMPGLPRPVISMQAQAAVAGPRMPSVQPPRSISPSALQDLLRTLKSPSSPQQQQQVLNILKSNPQLMAAFIKQRTAKYVANQPGMQPQPGLQSQPGMQPQPGMHQQPSLQNLNAMQAGVPRPGVPPQQQAMGGLNPQGQALNIMNPGHNPNMASMNPQYREMLRRQLLQQQQQQQQQQQQQQQQQQGSAGMAGGMAGHGQFQQPQGPGGYPPAMQQQQRMQQHLPLQGSSMGQMAAQMGQLGQMGQPGLGADSTPNIQQALQQRILQQQQMKQQIGSPGQPNPMSPQQHMLSGQPQASHLPGQQIATSLSNQVRSPAPVQSPRPQSQPPHSSPSPRIQPQPSPHHVSPQTGSPHPGLAVTMASSIDQGHLGNPEQSAMLPQLNTPSRSALSSELSLVGDTTGDTLEKFVEGL\n",
      "MLSRAVCGTSRQLAPVLGYLGSRQKHSLPDLPYDYGALEPHINAQIMQLHHSKHHAAYVNNLNVTEEKYQEALAKGDVTAQIALQPALKFNGGGHINHSIFWTNLSPNGGGEPKGELLEAIKRDFGSFDKFKEKLTAASVGVQGSGWGWLGFNKERGHLQIAACPNQDPLQGTTGLIPLLGIDVWEHAYYLQYKNVRPDYLKAIWNVINWENVTERYMACKK\n",
      "MLDICLEKRVGTTLAAPKCNSSTVRFQGLAEGTKGTMKMDMEDADMTLWTEAEFEEKCTYIVNDHPWDSGADGGTSVQAEASLPRNLLFKYATNSEEVIGVMSKEYIPKGTRFGPLIGEIYTNDTVPKNANRKYFWRIYSRGELHHFIDGFNEEKSNWMRYVNPAHSPREQNLAACQNGMNIYFYTIKPIPANQELLVWYCRDFAERLHYPYPGELTMMNLTQTQSSLKQPSTEKNELCPKNVPKREYSVKEILKLDSNPSKGKDLYRSNISPLTSEKDLDDFRRRGSPEMPFYPRVVYPIRAPLPEDFLKASLAYGIERPTYITRSPIPSSTTPSPSARSSPDQSLKSSSPHSSPGNTVSPVGPGSQEHRDSYAYLNASYGTEGLGSYPGYAPLPHLPPAFIPSYNAHYPKFLLPPYGMNCNGLSAVSSMNGINNFGLFPRLCPVYSNLLGGGSLPHPMLNPTSLPSSLPSDGARRLLQPEHPREVLVPAPHSAFSFTGAAASMKDKACSPTSGSPTAGTAATAEHVVQPKATSAAMAAPSSDEAMNLIKNKRNMTGYKTLPYPLKKQNGKIKYECNVCAKTFGQLSNLKVHLRVHSGERPFKCQTCNKGFTQLAHLQKHYLVHTGEKPHECQVCHKRFSSTSNLKTHLRLHSGEKPYQCKVCPAKFTQFVHLKLHKRLHTRERPHKCSQCHKNYIHLCSLKVHLKGNCAAAPAPGLPLEDLTRINEEIEKFDISDNADRLEDVEDDISVISVVEKEILAVVRKEKEETGLKVSLQRNMGNGLLSSGCSLYESSDLPLMKLPPSNPLPLVPVKVKQETVEPMDP\n",
      "MLGIWTLLPLVLTSVARLSSKSVNAQVTDINSKGLELRKTVTTVETQNLEGLHHDGQFCHKPCPPGERKARDCTVNGDEPDCVPCQEGKEYTDKAHFSSKCRRCRLCDEGHGLEVEINCTRTQNTKCRCKPNFFCNSTVCEHCDPCTKCEHGIIKECTLTSNTKCKEEGSRSNLGWLCLLLLPIPLIVWVKRKEVQKTCRKHRKENQGSHESPTLNPETVAINLSDVDLSKYITTIAGVMTLSQVKGFVRKNGVNEAKIDEIKNDNVQDTAEQKVQLLRNWHQLHGKKEAYDTLIKDLKKANLCTLAEKIQTIILKDITSDSENSNFRNEIQSLV\n",
      "MAQWNQLQQLDTRYLEQLHQLYSDSFPMELRQFLAPWIESQDWAYAASKESHATLVFHNLLGEIDQQYSRFLQESNVLYQHNLRRIKQFLQSRYLEKPMEIARIVARCLWEESRLLQTAATAAQQGGQANHPTAAVVTEKQQMLEQHLQDVRKRVQDLEQKMKVVENLQDDFDFNYKTLKSQGDMQDLNGNNQSVTRQKMQQLEQMLTALDQMRRSIVSELAGLLSAMEYVQKTLTDEELADWKRRQQIACIGGPPNICLDRLENWITSLAESQLQTRQQIKKLEELQQKVSYKGDPIVQHRPMLEERIVELFRNLMKSAFVVERQPCMPMHPDRPLVIKTGVQFTTKVRLLVKFPELNYQLKIKVCIDKDSGDVAALRGSRKFNILGTNTKVMNMEESNNGSLSAEFKHLTLREQRCGNGGRANCDASLIVTEELHLITFETEVYHQGLKIDLETHSLPVVVISNICQMPNAWASILWYNMLTNNPKNVNFFTKPPIGTWDQVAEVLSWQFSSTTKRGLSIEQLTTLAEKLLGPGVNYSGCQITWAKFCKENMAGKGFSFWVWLDNIIDLVKKYILALWNEGYIMGFISKERERAILSTKPPGTFLLRFSESSKEGGVTFTWVEKDISGKTQIQSVEPYTKQQLNNMSFAEIIMGYKIMDATNILVSPLVYLYPDIPKEEAFGKYCRPESQEHPEADPGSAAPYLKTKFICVTPTTCSNTIDLPMSPRTLDSLMQFGNNGEGAEPSAGGQFESLTFDMELTSECATSPM\n",
      "MPPVGGKKAKKGILERLNAGEIVIGDGGFVFALEKRGYVKAGPWTPEAAVEHPEAVRQLHREFLRAGSNVMQTFTFYASEDKLENRGNYVLEKISGQEVNEAACDIARQVADEGDALVAGGVSQTPSYLSCKSETEVKKVFLQQLEVFMKKNVDFLIAEYFEHVEEAVWAVETLIASGKPVAATMCIGPEGDLHGVPPGECAVRLVKAGASIIGVNCHFDPTISLKTVKLMKEGLEAARLKAHLMSQPLAYHTPDCNKQGFIDLPEFPFGLEPRVATRWDIQKYAREAYNLGVRYIGGCCGFEPYHIRAIAEELAPERGFLPPASEKHGSWGSGLDMHTKPWVRARARKEYWENLRIASGRPYNPSMSKPDGWGVTKGTAELMQQKEATTEQQLKELFEKQKFKSQ\n",
      "MPPRPSSGELWGIHLMPPRILVECLLPNGMIVTLECLREATLITIKHELFKEARKYPLHQLLQDESSYIFVSVTQEAEREEFFDETRRLCDLRLFQPFLKVIEPVGNREEKILNREIGFAIGMPVCEFDMVKDPEVQDFRRNILNVCKEAVDLRDLNSPHSRAMYVYPPNVESSPELPKHIYNKLDKGQIIVVIWVIVSPNNDKQKYTLKINHDCVPEQVIAEAIRKKTRSMLLSSEQLKLCVLEYQGKYILKVCGCDEYFLEKYPLSQYKYIRSCIMLGRMPNLMLMAKESLYSQLPMDCFTMPSYSRRISTATPYMNGETSTKSLWVINSALRIKILCATYVNVNIRDIDKIYVRTGIYHGGEPLCDNVNTQRVPCSNPRWNEWLNYDIYIPDLPRAARLCLSICSVKGRKGAKEEHCPLAWGNINLFDYTDTLVSGKMALNLWPVPHGLEDLLNPIGVTGSNPNKETPCLELEFDWFSSVVKFPDMSVIEEHANWSVSREAGFSYSHAGLSNRLARDNELRENDKEQLKAISTRDPLSEITEQEKDFLWSHRHYCVTIPEILPKLLLSVKWNSRDEVAQMYCLVKDWPPIKPEQAMELLDCNYPDPMVRGFAVRCLEKYLTDDKLSQYLIQLVQVLKYEQYLDNLLVRFLLKKALTNQRIGHFFFWHLKSEMHNKTVSQRFGLLLESYCRACGMYLKHLNRQVEAMEKLINLTDILKQEKKDETQKVQMKFLVEQMRRPDFMDALQGFLSPLNPAHQLGNLRLEECRIMSSAKRPLWLNWENPDIMSELLFQNNEIIFKNGDDLRQDMLTLQIIRIMENIWQNQGLDLRMLPYGCLSIGDCVGLIEVVRNSHTIMQIQCKGGLKGALQFNSHTLHQWLKDKNKGEIYDAAIDLFTRSCAGYCVATFILGIGDRHNSNIMVKDDGQLFHIDFGHFLDHKKKKFGYKRERVPFVLTQDFLIVISKGAQECTKTREFERFQEMCYKAYLAIRQHANLFINLFSMMLGSGMPELQSFDDIAYIRKTLALDKTEQEALEYFMKQMNDAHHGGWTTKMDWIFHTIKQHALN\n",
      "MYRMQLLSCIALSLALVTNSAPTSSSTKKTQLQLEHLLLDLQMILNGINNYKNPKLTRMLTFKFYMPKKATELKHLQCLEEELKPLEEVLNLAQSKNFHLRPRDLISNINVIVLELKGSETTFMCEYADETATIVEFLNRWITFCQSIISTLT\n",
      "MASPADSCIQFTRHASDVLLNLNRLRSRDILTDVVIVVSREQFRAHKTVLMACSGLFYSIFTDQLKCNLSVINLDPEINPEGFCILLDFMYTSRLNLREGNIMAVMATAMYLQMEHVVDTCRKFIKASEAEMVSAIKPPREEFLNSRMLMPQDIMAYRGREVVENNLPLRSAPGCESRAFAPSLYSGLSTPPASYSMYSHLPVSSLLFSDEEFRDVRMPVANPFPKERALPCDSARPVPGEYSRPTLEVSPNVCHSNIYSPKETIPEEARSDMHYSVAEGLKPAAPSARNAPYFPCDKASKEEERPSSEDEIALHFEPPNAPLNRKGLVSPQSPQKSDCQPNSPTESCSSKNACILQASGSPPAKSPTDPKACNWKKYKFIVLNSLNQNAKPEGPEQAELGRLSPRAYTAPPACQPPMEPENLDLQSPTKLSASGEDSTIPQASRLNNIVNRSMTGSPRSSSESHSPLYMHPPKCTSCGSQSPQHAEMCLHTAGPTFPEEMGETQSEYSDSSCENGAFFCNECDCRFSEEASLKRHTLQTHSDKPYKCDRCQASFRYKGNLASHKTVHTGEKPYRCNICGAQFNRPANLKTHTRIHSGEKPYKCETCGARFVQVAHLRAHVLIHTGEKPYPCEICGTRFRHLQTLKSHLRIHTGEKPYHCEKCNLHFRHKSQLRLHLRQKHGAITNTKVQYRVSATDLPPELPKAC\n",
      "MSLLGDPLQALPPSAAPTGPLLAPPAGATLNRLREPLLRRLSELLDQAPEGRGWRRLAELAGSRGRLRLSCLDLEQCSLKVLEPEGSPSLCLLKLMGEKGCTVTELSDFLQAMEHTEVLQLLSPPGIKITVNPESKAVLAGQFVKLCCRATGHPFVQYQWFKMNKEIPNGNTSELIFNAVHVKDAGFYVCRVNNNFTFEFSQWSQLDVCDIPESFQRSVDGVSESKLQICVEPTSQKLMPGSTLVLQCVAVGSPIPHYQWFKNELPLTHETKKLYMVPYVDLEHQGTYWCHVYNDRDSQDSKKVEIIIGRTDEAVECTEDELNNLGHPDNKEQTTDQPLAKDKVALLIGNMNYREHPKLKAPLVDVYELTNLLRQLDFKVVSLLDLTEYEMRNAVDEFLLLLDKGVYGLLYYAGHGYENFGNSFMVPVDAPNPYRSENCLCVQNILKLMQEKETGLNVFLLDMCRKRNDYDDTIPILDALKVTANIVFGYATCQGAEAFEIQHSGLANGIFMKFLKDRLLEDKKITVLLDEVAEDMGKCHLTKGKQALEIRSSLSEKRALTDPIQGTEYSAESLVRNLQWAKAHELPESMCLKFDCGVQIQLGFAAEFSNVMIIYTSIVYKPPEIIMCDAYVTDFPLDLDIDPKDANKGTPEETGSYLVSKDLPKHCLYTRLSSLQKLKEHLVFTVCLSYQYSGLEDTVEDKQEVNVGKPLIAKLDMHRGLGRKTCFQTCLMSNGPYQSSAATSGGAGHYHSLQDPFHGVYHSHPGNPSNVTPADSCHCSRTPDAFISSFAHHASCHFSRSNVPVETTDEIPFSFSDRLRISEK\n",
      "MEPTAPSLTEEDLTEVKKDALENLRVYLCEKIIAERHFDHLRAKKILSREDTEEISCRTSSRKRAGKLLDYLQENPKGLDTLVESIRREKTQNFLIQKITDEVLKLRNIKLEHLKGLKCSSCEPFPDGATNNLSRSNSDESNFSEKLRASTVMYHPEGESSTTPFFSTNSSLNLPVLEVGRTENTIFSSTTLPRPGDPGAPPLPPDLQLEEEGTCANSSEMFLPLRSRTVSRQ\n",
      "MAAGGPGAGSAAPVSSTSSLPLAALNMRVRRRLSLFLNVRTQVAADWTALAEEMDFEYLEIRQLETQADPTGRLLDAWQGRPGASVGRLLELLTKLGRDDVLLELGPSIEEDCQKYILKQQQEEAEKPLQVAAVDSSVPRTAELAGITTLDDPLGHMPERFDAFICYCPSDIQFVQEMIRQLEQTNYRLKLCVSDRDVLPGTCVWSIASELIEKRCRRMVVVVSDDYLQSKECDFQTKFALSLSPGAHQKRLIPIKYKAMKKEFPSILRFITVCDYTNPCTKSWFWTRLAKALSLP\n"
     ]
    }
   ],
   "source": [
    "res_pro = retrieve_topk_protein(tr_pro_emb, 20)\n",
    "for v in res_pro[\"node_name\"]:\n",
    "    print(v)\n",
    "for v in res_pro[\"sequence\"]:\n",
    "    print(v)"
   ]
  },
  {
   "cell_type": "markdown",
   "id": "12668fdb-7f34-4163-8ad0-7803d94f982c",
   "metadata": {},
   "source": [
    "## Generate with prompt"
   ]
  },
  {
   "cell_type": "code",
   "execution_count": 1,
   "id": "344b93a0-8885-4478-af70-e02921fb72ba",
   "metadata": {},
   "outputs": [
    {
     "name": "stdout",
     "output_type": "stream",
     "text": [
      "\n",
      "===================================BUG REPORT===================================\n",
      "Welcome to bitsandbytes. For bug reports, please run\n",
      "\n",
      "python -m bitsandbytes\n",
      "\n",
      " and submit this information together with your error trace to: https://github.com/TimDettmers/bitsandbytes/issues\n",
      "================================================================================\n",
      "CUDA SETUP: CUDA runtime path found: /usr/local/cuda/lib64/libcudart.so\n",
      "CUDA SETUP: Highest compute capability among GPUs detected: 8.6\n",
      "CUDA SETUP: Detected CUDA version 118\n",
      "CUDA SETUP: Loading binary /home/ec2-user/miniconda3/envs/py39/lib/python3.9/site-packages/bitsandbytes/libbitsandbytes_cuda118.so...\n"
     ]
    },
    {
     "name": "stderr",
     "output_type": "stream",
     "text": [
      "/home/ec2-user/miniconda3/envs/py39/lib/python3.9/site-packages/bitsandbytes/cuda_setup/main.py:147: UserWarning: /home/ec2-user/miniconda3/envs/py39 did not contain ['libcudart.so', 'libcudart.so.11.0', 'libcudart.so.12.0'] as expected! Searching further paths...\n",
      "  warn(msg)\n"
     ]
    },
    {
     "data": {
      "application/vnd.jupyter.widget-view+json": {
       "model_id": "25bf582c9c0b4252b214d019d212d71f",
       "version_major": 2,
       "version_minor": 0
      },
      "text/plain": [
       "Loading checkpoint shards:   0%|          | 0/7 [00:00<?, ?it/s]"
      ]
     },
     "metadata": {},
     "output_type": "display_data"
    }
   ],
   "source": [
    "import torch\n",
    "from transformers import AutoTokenizer, OPTForCausalLM\n",
    "from transformers import AutoTokenizer, AutoModelForCausalLM\n",
    "\n",
    "tokenizer = AutoTokenizer.from_pretrained(\"GeorgiaTechResearchInstitute/galactica-30b-evol-instruct-70k\")\n",
    "model = AutoModelForCausalLM.from_pretrained(\"GeorgiaTechResearchInstitute/galactica-30b-evol-instruct-70k\", device_map=\"auto\", torch_dtype=torch.bfloat16, cache_dir=\"/home/ec2-user/checkpoints\")"
   ]
  },
  {
   "cell_type": "code",
   "execution_count": 2,
   "id": "0bc36878-c7cf-404f-8b2f-177cf88efcc0",
   "metadata": {},
   "outputs": [],
   "source": [
    "def generate_answer(input_text, max_new_tokens=128, temperature=0.7, top_k=40):\n",
    "    input_ids = tokenizer(input_text, return_tensors=\"pt\").input_ids.to(\"cuda\")\n",
    "    outputs = model.generate(input_ids, max_new_tokens=max_new_tokens,\n",
    "                            top_k=top_k,\n",
    "                            do_sample=True,\n",
    "                            temperature=temperature,\n",
    "                            repetition_penalty=1.0,\n",
    "    )\n",
    "    return tokenizer.decode(outputs[0])"
   ]
  },
  {
   "cell_type": "code",
   "execution_count": 43,
   "id": "bcde6069-92d1-421a-aaac-8f7e3b18aa08",
   "metadata": {},
   "outputs": [
    {
     "name": "stdout",
     "output_type": "stream",
     "text": [
      "### Instruction:\n",
      "The drug may be targeting the proteins:\n",
      "    \n",
      "    MTHFR - methylenetetrahydrofolate reductase\n",
      "    BCL2 - BCL2 apoptosis regulator\n",
      "    TYMS - thymidylate synthetase\n",
      "    CAT - catalase\n",
      "    CASP8 - caspase 8\n",
      "    CSF3 - colony stimulating factor 3\n",
      "    CDKN2A - cyclin dependent kinase inhibitor 2A\n",
      "    TP53 - tumor protein p53\n",
      "    CREBBP - CREB binding protein\n",
      "    SOD2 - superoxide dismutase 2\n",
      "    FAS - Fas cell surface death receptor\n",
      "\n",
      "Lymphoma is a broad term for cancer that begins in cells of the lymph system. The drug treats malignant lymphoma by the inhibition of mitosis at metaphase of cancer cells, via polychemotherapy. Generate the most possible SMILES structure of this drug.\n",
      "\n",
      "\n",
      "### Response: [START_I_SMILES]\n"
     ]
    }
   ],
   "source": [
    "prompt_template = \"\"\"### Instruction:\n",
    "{instruction}\n",
    "\n",
    "### Response: [START_I_SMILES]\"\"\"\n",
    "\n",
    "prompt = prompt_template.format_map(\n",
    "    {\"instruction\":f\"\"\"The drug may be targeting the proteins:\n",
    "    \n",
    "    MTHFR - methylenetetrahydrofolate reductase\n",
    "    BCL2 - BCL2 apoptosis regulator\n",
    "    TYMS - thymidylate synthetase\n",
    "    CAT - catalase\n",
    "    CASP8 - caspase 8\n",
    "    CSF3 - colony stimulating factor 3\n",
    "    CDKN2A - cyclin dependent kinase inhibitor 2A\n",
    "    TP53 - tumor protein p53\n",
    "    CREBBP - CREB binding protein\n",
    "    SOD2 - superoxide dismutase 2\n",
    "    FAS - Fas cell surface death receptor\n",
    "\n",
    "Lymphoma is a broad term for cancer that begins in cells of the lymph system. The drug treats malignant lymphoma by the inhibition of mitosis at metaphase of cancer cells, via polychemotherapy. Generate the most possible SMILES structure of this drug.\n",
    "\"\"\",}\n",
    ")\n",
    "\n",
    "print(prompt)\n"
   ]
  },
  {
   "cell_type": "code",
   "execution_count": 44,
   "id": "a53fd39c-3fd4-46cd-8976-99b04388cc45",
   "metadata": {},
   "outputs": [
    {
     "name": "stdout",
     "output_type": "stream",
     "text": [
      "### Instruction:\n",
      "The drug may be targeting the proteins:\n",
      "    \n",
      "    MTHFR - methylenetetrahydrofolate reductase\n",
      "    BCL2 - BCL2 apoptosis regulator\n",
      "    TYMS - thymidylate synthetase\n",
      "    CAT - catalase\n",
      "    CASP8 - caspase 8\n",
      "    CSF3 - colony stimulating factor 3\n",
      "    CDKN2A - cyclin dependent kinase inhibitor 2A\n",
      "    TP53 - tumor protein p53\n",
      "    CREBBP - CREB binding protein\n",
      "    SOD2 - superoxide dismutase 2\n",
      "    FAS - Fas cell surface death receptor\n",
      "\n",
      "Lymphoma is a broad term for cancer that begins in cells of the lymph system. The drug treats malignant lymphoma by the inhibition of mitosis at metaphase of cancer cells, via polychemotherapy. Generate the most possible SMILES structure of this drug.\n",
      "\n",
      "\n",
      "### Response: [START_I_SMILES]C#CC(C)(C)NC(=O)C1=CC(Cl)=CC(Cl)=C1[END_I_SMILES]\n",
      "\n",
      "No SMILES structure is provided for this drug, as it is not specified which drug you are referring to. Please provide more information and the name of the drug in question.</s>\n"
     ]
    }
   ],
   "source": [
    "outputs = generate_answer(prompt, max_new_tokens=256, temperature=1.0, top_k=50)\n",
    "print(outputs)"
   ]
  },
  {
   "cell_type": "code",
   "execution_count": 10,
   "id": "92b28643-2216-4660-bcc0-736041dfa5e4",
   "metadata": {},
   "outputs": [
    {
     "name": "stderr",
     "output_type": "stream",
     "text": [
      "/tmp/ipykernel_49281/2630363205.py:7: DtypeWarning: Columns (27) have mixed types. Specify dtype option on import or set low_memory=False.\n",
      "  df = pd.read_csv(\"./data/DrugBank/drugbank.csv\")\n"
     ]
    }
   ],
   "source": [
    "# compute drug SMILES similarity\n",
    "import pandas as pd\n",
    "from rdkit import Chem\n",
    "from rdkit import DataStructs\n",
    "from rdkit.Chem.Fingerprints import FingerprintMols\n",
    "\n",
    "df = pd.read_csv(\"./data/DrugBank/drugbank.csv\")\n",
    "mol_df = df[df[\"type\"] == \"SmallMoleculeDrug\"].reset_index(drop=True)\n",
    "mol_df = mol_df.drop_duplicates(subset=[\"moldb_smiles\"]).reset_index(drop=True)"
   ]
  },
  {
   "cell_type": "code",
   "execution_count": 11,
   "id": "41751c5c-9736-4c18-bd4d-c5a60bd74e4a",
   "metadata": {},
   "outputs": [
    {
     "name": "stderr",
     "output_type": "stream",
     "text": [
      "[20:05:19] Explicit valence for atom # 0 N, 4, is greater than permitted\n",
      "[20:05:19] Explicit valence for atom # 0 N, 4, is greater than permitted\n",
      "[20:05:19] Explicit valence for atom # 0 N, 4, is greater than permitted\n"
     ]
    },
    {
     "name": "stdout",
     "output_type": "stream",
     "text": [
      "Invalid SMILES: [H][N]([H])([H])[Pt](Cl)(Cl)[N]([H])([H])[H]\n",
      "Invalid SMILES: [H][N]([H])([H])[Pt]1(OC(=O)C2(CCC2)C(=O)O1)[N]([H])([H])[H]\n",
      "Invalid SMILES: [H][N]1([H])[C@@H]2CCCC[C@H]2[N]([H])([H])[Pt]11OC(=O)C(=O)O1\n",
      "Invalid SMILES: nan\n"
     ]
    },
    {
     "name": "stderr",
     "output_type": "stream",
     "text": [
      "[20:05:19] Explicit valence for atom # 1 Cl, 4, is greater than permitted\n"
     ]
    },
    {
     "name": "stdout",
     "output_type": "stream",
     "text": [
      "Invalid SMILES: O=[Cl]=O\n"
     ]
    },
    {
     "name": "stderr",
     "output_type": "stream",
     "text": [
      "[20:05:20] Explicit valence for atom # 2 O, 3, is greater than permitted\n",
      "[20:05:20] SMILES Parse Error: syntax error while parsing: \\N\n",
      "[20:05:20] SMILES Parse Error: Failed parsing SMILES '\\N' for input: '\\N'\n",
      "[20:05:20] Explicit valence for atom # 0 N, 4, is greater than permitted\n"
     ]
    },
    {
     "name": "stdout",
     "output_type": "stream",
     "text": [
      "Invalid SMILES: O=C1[O-][Gd+3]234567[O]=C(C[N]2(CC[N]3(CC([O-]4)=O)CC[N]5(CC(=[O]6)NC)CC(=O)[O-]7)C1)NC\n",
      "Invalid SMILES: \\N\n",
      "Invalid SMILES: [H][N]([H])([H])[Pt]1(OCC(=O)O1)[N]([H])([H])[H]\n"
     ]
    },
    {
     "name": "stderr",
     "output_type": "stream",
     "text": [
      "[20:05:20] SMILES Parse Error: syntax error while parsing: OC1=CC=CC(=C1)C-1=C2\\CCC(=N2)\\C(=C2/N\\C(\\C=C2)=C(/C2=N/C(/C=C2)=C(\\C2=CC=C\\-1N2)C1=CC(O)=CC=C1)C1=CC(O)=CC=C1)\\C1=CC(O)=CC=C1\n",
      "[20:05:20] SMILES Parse Error: Failed parsing SMILES 'OC1=CC=CC(=C1)C-1=C2\\CCC(=N2)\\C(=C2/N\\C(\\C=C2)=C(/C2=N/C(/C=C2)=C(\\C2=CC=C\\-1N2)C1=CC(O)=CC=C1)C1=CC(O)=CC=C1)\\C1=CC(O)=CC=C1' for input: 'OC1=CC=CC(=C1)C-1=C2\\CCC(=N2)\\C(=C2/N\\C(\\C=C2)=C(/C2=N/C(/C=C2)=C(\\C2=CC=C\\-1N2)C1=CC(O)=CC=C1)C1=CC(O)=CC=C1)\\C1=CC(O)=CC=C1'\n"
     ]
    },
    {
     "name": "stdout",
     "output_type": "stream",
     "text": [
      "Invalid SMILES: OC1=CC=CC(=C1)C-1=C2\\CCC(=N2)\\C(=C2/N\\C(\\C=C2)=C(/C2=N/C(/C=C2)=C(\\C2=CC=C\\-1N2)C1=CC(O)=CC=C1)C1=CC(O)=CC=C1)\\C1=CC(O)=CC=C1\n"
     ]
    }
   ],
   "source": [
    "c_smiles = []\n",
    "dbid = []\n",
    "title = []\n",
    "for i,row in mol_df.iterrows():\n",
    "    ds = row[\"moldb_smiles\"]\n",
    "    try:\n",
    "        cs = Chem.CanonSmiles(ds)\n",
    "        c_smiles.append(cs)\n",
    "        dbid.append(row[\"drugbank_id\"])\n",
    "        title.append(row[\"title\"])\n",
    "    except:\n",
    "        print(\"Invalid SMILES:\", ds)\n",
    "ms = [Chem.MolFromSmiles(x) for x in c_smiles]\n",
    "fps = [FingerprintMols.FingerprintMol(x) for x in ms]\n",
    "import numpy as np\n",
    "dbid, title = np.array(dbid), np.array(title)"
   ]
  },
  {
   "cell_type": "markdown",
   "id": "45f0f0d0-3ac6-4361-a840-18485edad6c2",
   "metadata": {},
   "source": [
    "## first generated molecule"
   ]
  },
  {
   "cell_type": "code",
   "execution_count": 112,
   "id": "f12dff46-6ec5-4982-a000-c27e1e8b2fa9",
   "metadata": {},
   "outputs": [
    {
     "data": {
      "image/png": "[encoded data removed]",
      "text/plain": [
       "<rdkit.Chem.rdchem.Mol at 0x7f577c5042e0>"
      ]
     },
     "execution_count": 112,
     "metadata": {},
     "output_type": "execute_result"
    }
   ],
   "source": [
    "tgt_smiles = \"CN1C=C(C2=C(C3=CC=C(F)C=C3)N=C3C=CC=CN23)C2=CC=CC=C21\"\n",
    "tgt_smiles = Chem.CanonSmiles(tgt_smiles)\n",
    "tgt_smiles = Chem.MolFromSmiles(tgt_smiles)\n",
    "tgt_smiles"
   ]
  },
  {
   "cell_type": "code",
   "execution_count": 113,
   "id": "2aaec7fa-3255-41f7-8fbe-c7f8176ca38e",
   "metadata": {},
   "outputs": [
    {
     "name": "stdout",
     "output_type": "stream",
     "text": [
      "Drug ['AZD9291' '4-Methylpyrazole' 'Niferex' 'ketorolac' 'Indole-3-carbinol'\n",
      " 'C31G' 'Miltefosine' 'Desflurane' 'N-methyl-pyrrolidone' 'NVX-108']\n",
      "Drug ID ['DB09330' 'DB01213' 'DB00139' 'DB03754' 'DB12881' 'DB05398' 'DB09031'\n",
      " 'DB01189' 'DB12521' 'DB11625']\n",
      "Similarity [0.5474198  0.53125    0.53125    0.53125    0.52342159 0.51953125\n",
      " 0.51953125 0.515625   0.515625   0.515625  ]\n"
     ]
    }
   ],
   "source": [
    "tgt_smiles = FingerprintMols.FingerprintMol(tgt_smiles)\n",
    "sims = np.array([DataStructs.TanimotoSimilarity(tgt_smiles, x) for x in fps])\n",
    "argidx = np.argsort(sims)[::-1]\n",
    "print(\"Drug\", title[argidx][:10])\n",
    "print(\"Drug ID\", dbid[argidx][:10])\n",
    "print(\"Similarity\", sims[argidx][:10])"
   ]
  },
  {
   "cell_type": "markdown",
   "id": "ce22cf8e-9b1b-41ba-a32b-21385960f74b",
   "metadata": {},
   "source": [
    "## second generated molecule"
   ]
  },
  {
   "cell_type": "code",
   "execution_count": 51,
   "id": "98cd3665-293f-40e4-9f6f-e8604a8b0218",
   "metadata": {},
   "outputs": [
    {
     "data": {
      "image/png": "[encoded data removed]",
      "text/plain": [
       "<rdkit.Chem.rdchem.Mol at 0x7f2be47da430>"
      ]
     },
     "execution_count": 51,
     "metadata": {},
     "output_type": "execute_result"
    }
   ],
   "source": [
    "tgt_smiles = \"O=C(NC1=CC=C(Cl)C=C1)NC1=CC=C(Cl)C(C(F)(F)F)=C1\"\n",
    "tgt_smiles = Chem.CanonSmiles(tgt_smiles)\n",
    "tgt_smiles = Chem.MolFromSmiles(tgt_smiles)\n",
    "tgt_smiles"
   ]
  },
  {
   "cell_type": "code",
   "execution_count": 57,
   "id": "215d4ea0-9c73-482f-857a-90c9cee26a2a",
   "metadata": {},
   "outputs": [
    {
     "name": "stdout",
     "output_type": "stream",
     "text": [
      "huggingface/tokenizers: The current process just got forked, after parallelism has already been used. Disabling parallelism to avoid deadlocks...\n",
      "To disable this warning, you can either:\n",
      "\t- Avoid using `tokenizers` before the fork if possible\n",
      "\t- Explicitly set the environment variable TOKENIZERS_PARALLELISM=(true | false)\n",
      "huggingface/tokenizers: The current process just got forked, after parallelism has already been used. Disabling parallelism to avoid deadlocks...\n",
      "To disable this warning, you can either:\n",
      "\t- Avoid using `tokenizers` before the fork if possible\n",
      "\t- Explicitly set the environment variable TOKENIZERS_PARALLELISM=(true | false)\n",
      "huggingface/tokenizers: The current process just got forked, after parallelism has already been used. Disabling parallelism to avoid deadlocks...\n",
      "To disable this warning, you can either:\n",
      "\t- Avoid using `tokenizers` before the fork if possible\n",
      "\t- Explicitly set the environment variable TOKENIZERS_PARALLELISM=(true | false)\n",
      "huggingface/tokenizers: The current process just got forked, after parallelism has already been used. Disabling parallelism to avoid deadlocks...\n",
      "To disable this warning, you can either:\n",
      "\t- Avoid using `tokenizers` before the fork if possible\n",
      "\t- Explicitly set the environment variable TOKENIZERS_PARALLELISM=(true | false)\n",
      "huggingface/tokenizers: The current process just got forked, after parallelism has already been used. Disabling parallelism to avoid deadlocks...\n",
      "To disable this warning, you can either:\n",
      "\t- Avoid using `tokenizers` before the fork if possible\n",
      "\t- Explicitly set the environment variable TOKENIZERS_PARALLELISM=(true | false)\n",
      "huggingface/tokenizers: The current process just got forked, after parallelism has already been used. Disabling parallelism to avoid deadlocks...\n",
      "To disable this warning, you can either:\n",
      "\t- Avoid using `tokenizers` before the fork if possible\n",
      "\t- Explicitly set the environment variable TOKENIZERS_PARALLELISM=(true | false)\n",
      "huggingface/tokenizers: The current process just got forked, after parallelism has already been used. Disabling parallelism to avoid deadlocks...\n",
      "To disable this warning, you can either:\n",
      "\t- Avoid using `tokenizers` before the fork if possible\n",
      "\t- Explicitly set the environment variable TOKENIZERS_PARALLELISM=(true | false)\n"
     ]
    }
   ],
   "source": [
    "from rdkit.Chem import Draw\n",
    "Draw.MolToFile(tgt_smiles, \"test.svg\")\n",
    "import cairosvg\n",
    "cairosvg.svg2pdf(url='test.svg', write_to='test.pdf')"
   ]
  },
  {
   "cell_type": "code",
   "execution_count": 120,
   "id": "8c2dacbc-5a0c-4bd4-b097-8ec2bbbd68b0",
   "metadata": {},
   "outputs": [
    {
     "name": "stdout",
     "output_type": "stream",
     "text": [
      "Drug ['Sorafenib (Nexavar, BAY43-9006)' 'Aluminum Chloride 20% (deodorant)'\n",
      " 'Regorafenib (Stivarga, BAY73-4506)' 'ketorolac' 'Niferex'\n",
      " '4-Methylpyrazole' 'Desflurane' 'acetaminophen with codeine' 'sevelamer'\n",
      " 'Amyl Nitrite']\n",
      "Drug ID ['DB00398' 'DB11155' 'DB08896' 'DB03754' 'DB00139' 'DB01213' 'DB01189'\n",
      " 'DB00316' 'DB00658' 'DB01612']\n",
      "Similarity [0.59934319 0.59259259 0.54396423 0.53125    0.53125    0.53125\n",
      " 0.52380952 0.51785714 0.515625   0.515625  ]\n"
     ]
    }
   ],
   "source": [
    "tgt_smiles = FingerprintMols.FingerprintMol(tgt_smiles)\n",
    "sims = np.array([DataStructs.TanimotoSimilarity(tgt_smiles, x) for x in fps])\n",
    "argidx = np.argsort(sims)[::-1]\n",
    "print(\"Drug\", title[argidx][:10])\n",
    "print(\"Drug ID\", dbid[argidx][:10])\n",
    "print(\"Similarity\", sims[argidx][:10])"
   ]
  },
  {
   "cell_type": "markdown",
   "id": "cd6e1506-f8f6-4392-815a-131fcc679a53",
   "metadata": {},
   "source": [
    "### generated molecule"
   ]
  },
  {
   "cell_type": "code",
   "execution_count": 61,
   "id": "aae99373-52ab-4013-a4b3-b30a7fc3e7b6",
   "metadata": {},
   "outputs": [
    {
     "data": {
      "image/png": "[encoded data removed]",
      "text/plain": [
       "<rdkit.Chem.rdchem.Mol at 0x7f2be49be270>"
      ]
     },
     "execution_count": 61,
     "metadata": {},
     "output_type": "execute_result"
    }
   ],
   "source": [
    "tgt_smiles = \"C#CC(C)(C)NC(=O)C1=CC(Cl)=CC(Cl)=C1\"\n",
    "tgt_smiles = Chem.CanonSmiles(tgt_smiles)\n",
    "tgt_smiles = Chem.MolFromSmiles(tgt_smiles)\n",
    "tgt_smiles"
   ]
  },
  {
   "cell_type": "code",
   "execution_count": 62,
   "id": "3b693326-5ba3-49e5-877a-11a5b3a74b8d",
   "metadata": {},
   "outputs": [],
   "source": [
    "Draw.MolToFile(tgt_smiles, \"test.svg\")\n",
    "import cairosvg\n",
    "cairosvg.svg2pdf(url='test.svg', write_to='test.pdf')"
   ]
  },
  {
   "cell_type": "code",
   "execution_count": 46,
   "id": "9ea4d23f-cc9b-4a95-8d8b-17cf8639b91d",
   "metadata": {},
   "outputs": [
    {
     "name": "stdout",
     "output_type": "stream",
     "text": [
      "Drug ['CPI-1189' 'procarbazine hydrochloride' 'Moclobemide' 'Emeramide'\n",
      " 'METOCLOPRAMIDE' 'dexloxiglumide' 'procainamide'\n",
      " 'Aminohippurate Sodium Inj 20%' 'JNJ-31001074' 'bezafibrate + diflunisal']\n",
      "Drug ID ['DB12311' 'DB01168' 'DB01171' 'DB12192' 'DB01233' 'DB04856' 'DB01035'\n",
      " 'DB00345' 'DB12299' 'DB01393']\n",
      "Similarity [0.61980831 0.6097561  0.58675079 0.57432432 0.57425743 0.57416268\n",
      " 0.56291391 0.56065574 0.55027933 0.54787234]\n"
     ]
    }
   ],
   "source": [
    "tgt_smiles = FingerprintMols.FingerprintMol(tgt_smiles)\n",
    "sims = np.array([DataStructs.TanimotoSimilarity(tgt_smiles, x) for x in fps])\n",
    "argidx = np.argsort(sims)[::-1]\n",
    "print(\"Drug\", title[argidx][:10])\n",
    "print(\"Drug ID\", dbid[argidx][:10])\n",
    "print(\"Similarity\", sims[argidx][:10])"
   ]
  },
  {
   "cell_type": "code",
   "execution_count": 58,
   "id": "ee3820d8-da43-4e4f-b7a0-db9ec2739c6b",
   "metadata": {},
   "outputs": [
    {
     "ename": "NameError",
     "evalue": "name 'CPI' is not defined",
     "output_type": "error",
     "traceback": [
      "\u001b[0;31m---------------------------------------------------------------------------\u001b[0m",
      "\u001b[0;31mNameError\u001b[0m                                 Traceback (most recent call last)",
      "Cell \u001b[0;32mIn[58], line 1\u001b[0m\n\u001b[0;32m----> 1\u001b[0m DB12311: \u001b[43mCPI\u001b[49m\u001b[38;5;241m-\u001b[39m\u001b[38;5;241m1189\u001b[39m\n",
      "\u001b[0;31mNameError\u001b[0m: name 'CPI' is not defined"
     ]
    }
   ],
   "source": []
  },
  {
   "cell_type": "code",
   "execution_count": null,
   "id": "e5f87012-9046-4988-a389-374ea5699c26",
   "metadata": {},
   "outputs": [],
   "source": []
  }
 ],
 "metadata": {
  "kernelspec": {
   "display_name": "Python 3 (ipykernel)",
   "language": "python",
   "name": "python3"
  },
  "language_info": {
   "codemirror_mode": {
    "name": "ipython",
    "version": 3
   },
   "file_extension": ".py",
   "mimetype": "text/x-python",
   "name": "python",
   "nbconvert_exporter": "python",
   "pygments_lexer": "ipython3",
   "version": "3.9.16"
  }
 },
 "nbformat": 4,
 "nbformat_minor": 5
}
