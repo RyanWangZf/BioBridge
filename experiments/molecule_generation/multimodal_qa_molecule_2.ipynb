{
 "cells": [
  {
   "cell_type": "markdown",
   "id": "a9e2f606-ab99-4b94-9b37-a35ea38f5bd9",
   "metadata": {},
   "source": [
    "### \"https://go.drugbank.com/structures/small_molecule_drugs/{drugbank_id}.smiles\""
   ]
  },
  {
   "cell_type": "code",
   "execution_count": 1,
   "id": "7ba7fcbe-1aac-4c20-859e-be0d8a46749e",
   "metadata": {},
   "outputs": [],
   "source": [
    "import pdb\n",
    "import os\n",
    "import json\n",
    "import pickle\n",
    "import torch\n",
    "import pandas as pd\n",
    "\n",
    "from src.model import BindingModel\n",
    "from src.inference import BridgeInference\n",
    "output_dir = \"./data/generation_data\""
   ]
  },
  {
   "cell_type": "code",
   "execution_count": 2,
   "id": "892419b7-8c79-415a-9b9e-8a12297bc6b1",
   "metadata": {},
   "outputs": [
    {
     "name": "stderr",
     "output_type": "stream",
     "text": [
      "/tmp/ipykernel_147010/2135776923.py:1: DtypeWarning: Columns (27) have mixed types. Specify dtype option on import or set low_memory=False.\n",
      "  df = pd.read_csv(\"./data/DrugBank/drugbank.csv\")\n"
     ]
    }
   ],
   "source": [
    "df = pd.read_csv(\"./data/DrugBank/drugbank.csv\")"
   ]
  },
  {
   "cell_type": "code",
   "execution_count": 3,
   "id": "4031a191-8d00-4184-b49f-73a081e6b126",
   "metadata": {},
   "outputs": [],
   "source": [
    "mol_df = df[df[\"type\"] == \"SmallMoleculeDrug\"]\n",
    "df_mol = pd.read_csv(\"/home/ec2-user/data/Processed/drug.csv\")\n",
    "mol_df = mol_df[~mol_df[\"moldb_smiles\"].isin(df_mol[\"smiles\"])]"
   ]
  },
  {
   "cell_type": "code",
   "execution_count": 4,
   "id": "4e7b3aa6-8054-4914-8b51-1f5b7b92e114",
   "metadata": {},
   "outputs": [],
   "source": [
    "mol_df = mol_df.drop_duplicates(subset=[\"moldb_smiles\"]).reset_index(drop=True)"
   ]
  },
  {
   "cell_type": "code",
   "execution_count": 5,
   "id": "b782b440-20a1-4ea7-9336-c99bbcc21de4",
   "metadata": {},
   "outputs": [
    {
     "data": {
      "text/plain": [
       "{'node_type': {'biological_process': 0,\n",
       "  'gene/protein': 1,\n",
       "  'disease': 2,\n",
       "  'effect/phenotype': 3,\n",
       "  'anatomy': 4,\n",
       "  'molecular_function': 5,\n",
       "  'drug': 6,\n",
       "  'cellular_component': 7,\n",
       "  'pathway': 8,\n",
       "  'exposure': 9},\n",
       " 'relation_type': {'expression present': 0,\n",
       "  'synergistic interaction': 1,\n",
       "  'interacts with': 2,\n",
       "  'ppi': 3,\n",
       "  'phenotype present': 4,\n",
       "  'parent-child': 5,\n",
       "  'associated with': 6,\n",
       "  'side effect': 7,\n",
       "  'contraindication': 8,\n",
       "  'expression absent': 9,\n",
       "  'target': 10,\n",
       "  'indication': 11,\n",
       "  'enzyme': 12,\n",
       "  'transporter': 13,\n",
       "  'off-label use': 14,\n",
       "  'linked to': 15,\n",
       "  'phenotype absent': 16,\n",
       "  'carrier': 17},\n",
       " 'emb_dim': {'molecular_function': 768,\n",
       "  'gene/protein': 2560,\n",
       "  'disease': 768,\n",
       "  'cellular_component': 768,\n",
       "  'drug': 512,\n",
       "  'biological_process': 768}}"
      ]
     },
     "execution_count": 5,
     "metadata": {},
     "output_type": "execute_result"
    }
   ],
   "source": [
    "{\n",
    "    \"node_type\": {\n",
    "        \"biological_process\": 0,\n",
    "        \"gene/protein\": 1,\n",
    "        \"disease\": 2,\n",
    "        \"effect/phenotype\": 3,\n",
    "        \"anatomy\": 4,\n",
    "        \"molecular_function\": 5,\n",
    "        \"drug\": 6,\n",
    "        \"cellular_component\": 7,\n",
    "        \"pathway\": 8,\n",
    "        \"exposure\": 9\n",
    "    },\n",
    "    \"relation_type\": {\n",
    "        \"expression present\": 0,\n",
    "        \"synergistic interaction\": 1,\n",
    "        \"interacts with\": 2,\n",
    "        \"ppi\": 3,\n",
    "        \"phenotype present\": 4,\n",
    "        \"parent-child\": 5,\n",
    "        \"associated with\": 6,\n",
    "        \"side effect\": 7,\n",
    "        \"contraindication\": 8,\n",
    "        \"expression absent\": 9,\n",
    "        \"target\": 10,\n",
    "        \"indication\": 11,\n",
    "        \"enzyme\": 12,\n",
    "        \"transporter\": 13,\n",
    "        \"off-label use\": 14,\n",
    "        \"linked to\": 15,\n",
    "        \"phenotype absent\": 16,\n",
    "        \"carrier\": 17\n",
    "    },\n",
    "    \"emb_dim\": {\n",
    "        \"molecular_function\": 768,\n",
    "        \"gene/protein\": 2560,\n",
    "        \"disease\": 768,\n",
    "        \"cellular_component\": 768,\n",
    "        \"drug\": 512,\n",
    "        \"biological_process\": 768\n",
    "    }\n",
    "}"
   ]
  },
  {
   "cell_type": "markdown",
   "id": "1ebfb673-5b49-4aa9-b54f-c5ecaaf48044",
   "metadata": {},
   "source": [
    "## Mol smiles input for Q&A"
   ]
  },
  {
   "cell_type": "code",
   "execution_count": 6,
   "id": "8d6ca007-b308-4dd3-a81a-74b84ad5f6af",
   "metadata": {},
   "outputs": [
    {
     "name": "stderr",
     "output_type": "stream",
     "text": [
      "2023-08-30 23:29:03 | unimol_tools/models/unimol.py | 114 | INFO | Uni-Mol(QSAR) | Loading pretrained weights from /home/ec2-user/miniconda3/envs/py39/lib/python3.9/site-packages/unimol_tools-1.0.0-py3.9.egg/unimol_tools/weights/mol_pre_all_h_220816.pt\n"
     ]
    }
   ],
   "source": [
    "# encode it using a protein encoder\n",
    "from src.drug_encoder import load_molecule_model, inference\n",
    "mol_model, tokenizer = load_molecule_model()"
   ]
  },
  {
   "cell_type": "code",
   "execution_count": 7,
   "id": "9a5ea776-bab1-4e07-965a-c0929bf142fd",
   "metadata": {},
   "outputs": [],
   "source": [
    "# load biobridge model\n",
    "checkpoint_dir = \"./checkpoints/bind-openke-benchmark-6-layer-unimol\"\n",
    "with open(os.path.join(checkpoint_dir, \"model_config.json\"), \"r\") as f:\n",
    "    model_config = json.load(f)\n",
    "model = BindingModel(**model_config)\n",
    "model.load_state_dict(torch.load(os.path.join(checkpoint_dir, \"pytorch_model.bin\")))\n",
    "model = BridgeInference(model)"
   ]
  },
  {
   "cell_type": "code",
   "execution_count": 8,
   "id": "9c5b866f-ab07-4171-8fc9-47cca595495d",
   "metadata": {},
   "outputs": [],
   "source": [
    "# load pre-encoded disease embeddings and project for retrieval\n",
    "with open(\"./data/embeddings/esm2b_unimo_pubmedbert/disease.pkl\", \"rb\") as f:\n",
    "    dis_raw = pickle.load(f)\n",
    "dis_emb = torch.tensor(dis_raw[\"embedding\"], dtype=torch.float32)\n",
    "dis_emb = model.project(\n",
    "    x = dis_emb,\n",
    "    src_type = 2,\n",
    ")\n",
    "dis_raw.keys()\n",
    "dis_idx = torch.tensor(dis_raw[\"node_index\"])\n",
    "# load disease node index to its descriptions\n",
    "df_dis = pd.read_csv(\"/home/ec2-user/data/Processed/disease.csv\")"
   ]
  },
  {
   "cell_type": "code",
   "execution_count": 9,
   "id": "78be2ef9-7088-4b05-8d5e-1dea3e64c2c4",
   "metadata": {},
   "outputs": [],
   "source": [
    "# load pre-encoded protein embeddings and project for retrieval\n",
    "with open(\"./data/embeddings/esm2b_unimo_pubmedbert/protein.pkl\", \"rb\") as f:\n",
    "    pro_raw = pickle.load(f)\n",
    "pro_emb = torch.tensor(pro_raw[\"embedding\"], dtype=torch.float32)\n",
    "pro_emb = model.project(\n",
    "    x = pro_emb,\n",
    "    src_type = 1,\n",
    ")\n",
    "pro_idx = torch.tensor(pro_raw[\"node_index\"])\n",
    "df_pro = pd.read_csv(\"/home/ec2-user/data/Processed/protein.csv\")"
   ]
  },
  {
   "cell_type": "markdown",
   "id": "6e03ad83-d575-42b6-b9bc-70abd08553be",
   "metadata": {},
   "source": [
    "# start encoding and retrieval"
   ]
  },
  {
   "cell_type": "code",
   "execution_count": 24,
   "id": "d1b492e3-aa04-4d00-93bc-6608184ae914",
   "metadata": {},
   "outputs": [
    {
     "name": "stdout",
     "output_type": "stream",
     "text": [
      "Saxagliptin\n",
      "N[C@H](C(=O)N1[C@H]2C[C@H]2C[C@H]1C#N)C12CC3CC(CC(O)(C3)C1)C2\n",
      "DB06335\n"
     ]
    }
   ],
   "source": [
    "# select a sample\n",
    "mol = mol_df.iloc[14]\n",
    "name, smiles = mol[\"title\"], mol[\"moldb_smiles\"]\n",
    "print(name)\n",
    "print(smiles)\n",
    "print(mol[\"drugbank_id\"])"
   ]
  },
  {
   "cell_type": "code",
   "execution_count": 25,
   "id": "b844d129-ebe2-4365-a727-efe1f0b892dc",
   "metadata": {},
   "outputs": [
    {
     "name": "stderr",
     "output_type": "stream",
     "text": [
      "2023-08-30 23:32:05 | unimol_tools/data/conformer.py | 62 | INFO | Uni-Mol(QSAR) | Start generating conformers...\n",
      "1it [00:00,  8.88it/s]\n",
      "2023-08-30 23:32:05 | unimol_tools/data/conformer.py | 66 | INFO | Uni-Mol(QSAR) | Failed to generate conformers for 0.00% of molecules.\n",
      "2023-08-30 23:32:05 | unimol_tools/data/conformer.py | 68 | INFO | Uni-Mol(QSAR) | Failed to generate 3d conformers for 0.00% of molecules.\n",
      "                                                                                                                                                                                         \r"
     ]
    },
    {
     "data": {
      "text/plain": [
       "tensor([-0.2807, -0.7875, -0.2572, -0.3396, -0.4580, -1.6172,  0.8795,  0.9681,\n",
       "        -0.7790,  1.5701])"
      ]
     },
     "execution_count": 25,
     "metadata": {},
     "output_type": "execute_result"
    }
   ],
   "source": [
    "mol_raw_emb = inference(mol_model, smiles)\n",
    "mol_raw_emb = torch.tensor(mol_raw_emb, dtype=torch.float32)\n",
    "mol_raw_emb[0][:10]"
   ]
  },
  {
   "cell_type": "code",
   "execution_count": 26,
   "id": "e08d13c5-9a0d-4877-8560-2c7d92c62449",
   "metadata": {},
   "outputs": [],
   "source": [
    "# transform raw seq embeddings to the disease space\n",
    "tr_dis_emb = model.transform(\n",
    "    x = mol_raw_emb,\n",
    "    src_type = 6, # drug\n",
    "    tgt_type = 2, # disease\n",
    "    rel_type = 11, # indication\n",
    ")\n",
    "\n",
    "# transform raw seq embeddings to the protein space\n",
    "tr_pro_emb = model.transform(\n",
    "    x = mol_raw_emb,\n",
    "    src_type = 6, # drug\n",
    "    tgt_type = 1, # protein\n",
    "    rel_type = 10, # target\n",
    ")"
   ]
  },
  {
   "cell_type": "code",
   "execution_count": 27,
   "id": "1954f83b-c87d-479f-8cd1-faa6535876c2",
   "metadata": {},
   "outputs": [
    {
     "data": {
      "text/plain": [
       "tensor([-0.3657,  0.4483, -1.4305,  0.6865, -0.1807, -1.2724,  0.1104,  0.4441,\n",
       "         0.7328, -0.1804])"
      ]
     },
     "execution_count": 27,
     "metadata": {},
     "output_type": "execute_result"
    }
   ],
   "source": [
    "tr_dis_emb[0][:10]"
   ]
  },
  {
   "cell_type": "code",
   "execution_count": 28,
   "id": "2c9d9592-4e1b-47b6-8567-60f7f1397e52",
   "metadata": {},
   "outputs": [],
   "source": [
    "def retrieve_topk_disease(tgt, topk=10):\n",
    "    \"\"\"Args:\n",
    "    tgt: emb with [1, dim]\n",
    "    \"\"\"\n",
    "    cossim = torch.cosine_similarity(tgt, dis_emb, dim=1)\n",
    "    top_k = torch.topk(cossim, k=topk, dim=0)\n",
    "    retrieved_dis = df_dis.set_index('node_index').loc[dis_idx[top_k.indices].numpy()]\n",
    "    return retrieved_dis\n",
    "\n",
    "\n",
    "def retrieve_topk_protein(tgt, topk=10):\n",
    "    \"\"\"Args:\n",
    "    tgt: emb with [1, dim]\n",
    "    \"\"\"\n",
    "    cossim = torch.cosine_similarity(tgt, pro_emb, dim=1)\n",
    "    top_k = torch.topk(cossim, k=topk, dim=0)\n",
    "    retrieved = df_pro.set_index('node_index').loc[pro_idx[top_k.indices].numpy()]\n",
    "    return retrieved"
   ]
  },
  {
   "cell_type": "code",
   "execution_count": 29,
   "id": "7abee3e5-b307-4d7b-b640-4606b1605df1",
   "metadata": {},
   "outputs": [
    {
     "name": "stdout",
     "output_type": "stream",
     "text": [
      "diabetes mellitus (disease)\n",
      "type 2 diabetes mellitus\n",
      "coronary artery disease\n",
      "bipolar disorder\n",
      "bipolar II disorder\n",
      "bipolar depression\n",
      "bipolar I disorder\n",
      "obesity disorder\n",
      "dysthymic disorder\n",
      "monogenic obesity\n",
      "neurotic disorder\n",
      "diabetic ketoacidosis\n",
      "panic disorder 1\n",
      "depressive disorder\n",
      "anxiety disorder\n",
      "eating disorder\n",
      "mood disorder\n",
      "sleep disorder\n",
      "panic disorder\n",
      "generalized anxiety disorder\n",
      "separation anxiety disorder\n",
      "adjustment disorder\n",
      "panic disorder 2\n",
      "panic disorder 3\n"
     ]
    }
   ],
   "source": [
    "res_dis = retrieve_topk_disease(tr_dis_emb, 10)\n",
    "for v in res_dis[\"mondo_name\"].unique():\n",
    "    print(v)"
   ]
  },
  {
   "cell_type": "code",
   "execution_count": 30,
   "id": "37ef6129-ef12-4942-89a8-2bb0040af0ed",
   "metadata": {},
   "outputs": [
    {
     "name": "stdout",
     "output_type": "stream",
     "text": [
      "DPP4\n",
      "F2\n",
      "FAP\n",
      "F9\n",
      "PRSS2\n",
      "PLAT\n",
      "F10\n",
      "ACE\n",
      "DPP6\n",
      "PRSS1\n",
      "MKTPWKVLLGLLGAAALVTIITVPVVLLNKGTDDATADSRKTYTLTDYLKNTYRLKLYSLRWISDHEYLYKQENNILVFNAEYGNSSVFLENSTFDEFGHSINDYSISPDGQFILLEYNYVKQWRHSYTASYDIYDLNKRQLITEERIPNNTQWVTWSPVGHKLAYVWNNDIYVKIEPNLPSYRITWTGKEDIIYNGITDWVYEEEVFSAYSALWWSPNGTFLAYAQFNDTEVPLIEYSFYSDESLQYPKTVRVPYPKAGAVNPTVKFFVVNTDSLSSVTNATSIQITAPASMLIGDHYLCDVTWATQERISLQWLRRIQNYSVMDICDYDESSGRWNCLVARQHIEMSTTGWVGRFRPSEPHFTLDGNSFYKIISNEEGYRHICYFQIDKKDCTFITKGTWEVIGIEALTSDYLYYISNEYKGMPGGRNLYKIQLSDYTKVTCLSCELNPERCQYYSVSFSKEAKYYQLRCSGPGLPLYTLHSSVNDKGLRVLEDNSALDKMLQNVQMPSKKLDFIILNETKFWYQMILPPHFDKSKKYPLLLDVYAGPCSQKADTVFRLNWATYLASTENIIVASFDGRGSGYQGDKIMHAINRRLGTFEVEDQIEAARQFSKMGFVDNKRIAIWGWSYGGYVTSMVLGSGSGVFKCGIAVAPVSRWEYYDSVYTERYMGLPTPEDNLDHYRNSTVMSRAENFKQVEYLLIHGTADDNVHFQQSAQISKALVDVGVDFQAMWYTDEDHGIASSTAHQHIYTHMSHFIKQCFSLP\n",
      "MAHVRGLQLPGCLALAALCSLVHSQHVFLAPQQARSLLQRVRRANTFLEEVRKGNLERECVEETCSYEEAFEALESSTATDVFWAKYTACETARTPRDKLAACLEGNCAEGLGTNYRGHVNITRSGIECQLWRSRYPHKPEINSTTHPGADLQENFCRNPDSSTTGPWCYTTDPTVRRQECSIPVCGQDQVTVAMTPRSEGSSVNLSPPLEQCVPDRGQQYQGRLAVTTHGLPCLAWASAQAKALSKHQDFNSAVQLVENFCRNPDGDEEGVWCYVAGKPGDFGYCDLNYCEEAVEEETGDGLDEDSDRAIEGRTATSEYQTFFNPRTFGSGEADCGLRPLFEKKSLEDKTERELLESYIDGRIVEGSDAEIGMSPWQVMLFRKSPQELLCGASLISDRWVLTAAHCLLYPPWDKNFTENDLLVRIGKHSRTRYERNIEKISMLEKIYIHPRYNWRENLDRDIALMKLKKPVAFSDYIHPVCLPDRETAASLLQAGYKGRVTGWGNLKETWTANVGKGQPSVLQVVNLPIVERPVCKDSTRIRITDNMFCAGYKPDEGKRGDACEGDSGGPFVMKSPFNNRWYQMGIVSWGEGCDRDGKYGFYTHVFRLKKWIQKVIDQFGE\n",
      "MKTWVKIVFGVATSAVLALLVMCIVLRPSRVHNSEENTMRALTLKDILNGTFSYKTFFPNWISGQEYLHQSADNNIVLYNIETGQSYTILSNRTMKSVNASNYGLSPDRQFVYLESDYSKLWRYSYTATYYIYDLSNGEFVRGNELPRPIQYLCWSPVGSKLAYVYQNNIYLKQRPGDPPFQITFNGRENKIFNGIPDWVYEEEMLATKYALWWSPNGKFLAYAEFNDTDIPVIAYSYYGDEQYPRTINIPYPKAGAKNPVVRIFIIDTTYPAYVGPQEVPVPAMIASSDYYFSWLTWVTDERVCLQWLKRVQNVSVLSICDFREDWQTWDCPKTQEHIEESRTGWAGGFFVSTPVFSYDAISYYKIFSDKDGYKHIHYIKDTVENAIQITSGKWEAINIFRVTQDSLFYSSNEFEEYPGRRNIYRISIGSYPPSKKCVTCHLRKERCQYYTASFSDYAKYYALVCYGPGIPISTLHDGRTDQEIKILEENKELENALKNIQLPKEEIKKLEVDEITLWYKMILPPQFDRSKKYPLLIQVYGGPCSQSVRSVFAVNWISYLASKEGMVIALVDGRGTAFQGDKLLYAVYRKLGVYEVEDQITAVRKFIEMGFIDEKRIAIWGWSYGGYVSSLALASGTGLFKCGIAVAPVSSWEYYASVYTERFMGLPTKDDNLEHYKNSTVMARAEYFRNVDYLLIHGTADDNVHFQNSAQIAKALVNAQVDFQAMWYSDQNHGLSGLSTNHLYTHMTHFLKQCFSLSD\n",
      "MQRVNMIMAESPGLITICLLGYLLSAECTVFLDHENANKILNRPKRYNSGKLEEFVQGNLERECMEEKCSFEEAREVFENTERTTEFWKQYVDGDQCESNPCLNGGSCKDDINSYECWCPFGFEGKNCELDVTCNIKNGRCEQFCKNSADNKVVCSCTEGYRLAENQKSCEPAVPFPCGRVSVSQTSKLTRAETVFPDVDYVNSTEAETILDNITQSTQSFNDFTRVVGGEDAKPGQFPWQVVLNGKVDAFCGGSIVNEKWIVTAAHCVETGVKITVVAGEHNIEETEHTEQKRNVIRIIPHHNYNAAINKYNHDIALLELDEPLVLNSYVTPICIADKEYTNIFLKFGSGYVSGWGRVFHKGRSALVLQYLRVPLVDRATCLRSTKFTIYNNMFCAGFHEGGRDSCQGDSGGPHVTEVEGTSFLTGIISWGEECAMKGKYGIYTKVSRYVNWIKEKTKLT\n",
      "MNLLLILTFVAAAVAAPFDDDDKIVGGYICEENSVPYQVSLNSGYHFCGGSLISEQWVVSAGHCYKSRIQVRLGEHNIEVLEGNEQFINAAKIIRHPKYNSRTLDNDILLIKLSSPAVINSRVSAISLPTAPPAAGTESLISGWGNTLSSGADYPDELQCLDAPVLSQAECEASYPGKITNNMFCVGFLEGGKDSCQGDSGGPVVSNGELQGIVSWGYGCAQKNRPGVYTKVYNYVDWIKDTIAANS\n",
      "MDAMKRGLCCVLLLCGAVFVSPSQEIHARFRRGARSYQVICRDEKTQMIYQQHQSWLRPVLRSNRVEYCWCNSGRAQCHSVPVKSCSEPRCFNGGTCQQALYFSDFVCQCPEGFAGKCCEIDTRATCYEDQGISYRGTWSTAESGAECTNWNSSALAQKPYSGRRPDAIRLGLGNHNYCRNPDRDSKPWCYVFKAGKYSSEFCSTPACSEGNSDCYFGNGSAYRGTHSLTESGASCLPWNSMILIGKVYTAQNPSAQALGLGKHNYCRNPDGDAKPWCHVLKNRRLTWEYCDVPSCSTCGLRQYSQPQFRIKGGLFADIASHPWQAAIFAKHRRSPGERFLCGGILISSCWILSAAHCFQERFPPHHLTVILGRTYRVVPGEEEQKFEVEKYIVHKEFDDDTYDNDIALLQLKSDSSRCAQESSVVRTVCLPPADLQLPDWTECELSGYGKHEALSPFYSERLKEAHVRLYPSSRCTSQHLLNRTVTDNMLCAGDTRSGGPQANLHDACQGDSGGPLVCLNDGRMTLVGIISWGLGCGQKDVPGVYTKVTNYLDWIRDNMRP\n",
      "MGRPLHLVLLSASLAGLLLLGESLFIRREQANNILARVTRANSFLEEMKKGHLERECMEETCSYEEAREVFEDSDKTNEFWNKYKDGDQCETSPCQNQGKCKDGLGEYTCTCLEGFEGKNCELFTRKLCSLDNGDCDQFCHEEQNSVVCSCARGYTLADNGKACIPTGPYPCGKQTLERRKRSVAQATSSSGEAPDSITWKPYDAADLDPTENPFDLLDFNQTQPERGDNNLTRIVGGQECKDGECPWQALLINEENEGFCGGTILSEFYILTAAHCLYQAKRFKVRVGDRNTEQEEGGEAVHEVEVVIKHNRFTKETYDFDIAVLRLKTPITFRMNVAPACLPERDWAESTLMTQKTGIVSGFGRTHEKGRQSTRLKMLEVPYVDRNSCKLSSSFIITQNMFCAGYDTKQEDACQGDSGGPHVTRFKDTYFVTGIVSWGEGCARKGKYGIYTKVTAFLKWIDRSMKTRGLPKAKSHAPEVITSSPLK\n",
      "MGAASGRRGPGLLLPLPLLLLLPPQPALALDPGLQPGNFSADEAGAQLFAQSYNSSAEQVLFQSVAASWAHDTNITAENARRQEEAALLSQEFAEAWGQKAKELYEPIWQNFTDPQLRRIIGAVRTLGSANLPLAKRQQYNALLSNMSRIYSTAKVCLPNKTATCWSLDPDLTNILASSRSYAMLLFAWEGWHNAAGIPLKPLYEDFTALSNEAYKQDGFTDTGAYWRSWYNSPTFEDDLEHLYQQLEPLYLNLHAFVRRALHRRYGDRYINLRGPIPAHLLGDMWAQSWENIYDMVVPFPDKPNLDVTSTMLQQGWNATHMFRVAEEFFTSLELSPMPPEFWEGSMLEKPADGREVVCHASAWDFYNRKDFRIKQCTRVTMDQLSTVHHEMGHIQYYLQYKDLPVSLRRGANPGFHEAIGDVLALSVSTPEHLHKIGLLDRVTNDTESDINYLLKMALEKIAFLPFGYLVDQWRWGVFSGRTPPSRYNFDWWYLRTKYQGICPPVTRNETHFDAGAKFHVPNVTPYIRYFVSFVLQFQFHEALCKEAGYEGPLHQCDIYRSTKAGAKLRKVLQAGSSRPWQEVLKDMVGLDALDAQPLLKYFQPVTQWLQEQNQQNGEVLGWPEYQWHPPLPDNYPEGIDLVTDEAEASKFVEEYDRTSQVVWNEYAEANWNYNTNITTETSKILLQKNMQIANHTLKYGTQARKFDVNQLQNTTIKRIIKKVQDLERAALPAQELEEYNKILLDMETTYSVATVCHPNGSCLQLEPDLTNVMATSRKYEDLLWAWEGWRDKAGRAILQFYPKYVELINQAARLNGYVDAGDSWRSMYETPSLEQDLERLFQELQPLYLNLHAYVRRALHRHYGAQHINLEGPIPAHLLGNMWAQTWSNIYDLVVPFPSAPSMDTTEAMLKQGWTPRRMFKEADDFFTSLGLLPVPPEFWNKSMLEKPTDGREVVCHASAWDFYNGKDFRIKQCTTVNLEDLVVAHHEMGHIQYFMQYKDLPVALREGANPGFHEAIGDVLALSVSTPKHLHSLNLLSSEGGSDEHDINFLMKMALDKIAFIPFSYLVDQWRWRVFDGSITKENYNQEWWSLRLKYQGLCPPVPRTQGDFDPGAKFHIPSSVPYIRYFVSFIIQFQFHEALCQAAGHTGPLHKCDIYQSKEAGQRLATAMKLGFSRPWPEAMQLITGQPNMSASAMLSYFKPLLDWLRTENELHGEKLGWPQYNWTPNSARSEGPLPDSGRVSFLGLDLDAQQARVGQWLLLFLGIALLVATLGLSQRLFSIRHRSLHRHSHGPQFGSEVELRHS\n",
      "MASLYQRFTGKINTSRSFPAPPEASHLLGGQGPEEDGGAGAKPLGPRAQAAAPRERGGGGGGAGGRPRFQYQARSDGDEEDELVGSNPPQRNWKGIAIALLVILVICSLIVTSVILLTPAEDNSLSQKKKVTVEDLFSEDFKIHDPEAKWISDTEFIYREQKGTVRLWNVETNTSTVLIEGKKIESLRAIRYEISPDREYALFSYNVEPIYQHSYTGYYVLSKIPHGDPQSLDPPEVSNAKLQYAGWGPKGQQLIFIFENNIYYCAHVGKQAIRVVSTGKEGVIYNGLSDWLYEEEILKTHIAHWWSPDGTRLAYAAINDSRVPIMELPTYTGSIYPTVKPYHYPKAGSENPSISLHVIGLNGPTHDLEMMPPDDPRMREYYITMVKWATSTKVAVTWLNRAQNVSILTLCDATTGVCTKKHEDESEAWLHRQNEEPVFSKDGRKFFFIRAIPQGGRGKFYHITVSSSQPNSSNDNIQSITSGDWDVTKILAYDEKGNKIYFLSTEDLPRRRQLYSANTVGNFNRQCLSCDLVENCTYFSASFSHSMDFFLLKCEGPGVPMVTVHNTTDKKKMFDLETNEHVKKAINDRQMPKVEYRDIEIDDYNLPMQILKPATFTDTTHYPLLLVVDGTPGSQSVAEKFEVSWETVMVSSHGAVVVKCDGRGSGFQGTKLLHEVRRRLGLLEEKDQMEAVRTMLKEQYIDRTRVAVFGKDYGGYLSTYILPAKGENQGQTFTCGSALSPITDFKLYASAFSERYLGLHGLDNRAYEMTKVAHRVSALEEQQFLIIHPTADEKIHFQHTAELITQLIRGKANYSLQIYPDESHYFTSSSLKQHLYRSIINFFVECFRIQDKLLTVTAKEDEEED\n",
      "MNPLLILTFVAAALAAPFDDDDKIVGGYNCEENSVPYQVSLNSGYHFCGGSLINEQWVVSAGHCYKSRIQVRLGEHNIEVLEGNEQFINAAKIIRHPQYDRKTLNNDIMLIKLSSRAVINARVSTISLPTAPPATGTKCLISGWGNTASSGADYPDELQCLDAPVLSQAKCEASYPGKITSNMFCVGFLEGGKDSCQGDSGGPVVCNGQLQGVVSWGDGCAQKNKPGVYTKVYNYVKWIKNTIAANS\n"
     ]
    }
   ],
   "source": [
    "res_pro = retrieve_topk_protein(tr_pro_emb, 10)\n",
    "for v in res_pro[\"node_name\"]:\n",
    "    print(v)\n",
    "for v in res_pro[\"sequence\"]:\n",
    "    print(v)"
   ]
  },
  {
   "cell_type": "markdown",
   "id": "48469e4e-2354-4db4-9de0-084916f9d38e",
   "metadata": {},
   "source": [
    "## Galactica for generating the answer"
   ]
  },
  {
   "cell_type": "code",
   "execution_count": 31,
   "id": "30994ccd-f801-4463-9405-392049ff647b",
   "metadata": {},
   "outputs": [
    {
     "name": "stdout",
     "output_type": "stream",
     "text": [
      "\n",
      "===================================BUG REPORT===================================\n",
      "Welcome to bitsandbytes. For bug reports, please run\n",
      "\n",
      "python -m bitsandbytes\n",
      "\n",
      " and submit this information together with your error trace to: https://github.com/TimDettmers/bitsandbytes/issues\n",
      "================================================================================\n",
      "CUDA SETUP: CUDA runtime path found: /usr/local/cuda/targets/x86_64-linux/lib/libcudart.so.11.0\n",
      "CUDA SETUP: Highest compute capability among GPUs detected: 8.6\n",
      "CUDA SETUP: Detected CUDA version 118\n",
      "CUDA SETUP: Loading binary /home/ec2-user/miniconda3/envs/py39/lib/python3.9/site-packages/bitsandbytes/libbitsandbytes_cuda118.so...\n"
     ]
    }
   ],
   "source": [
    "import torch\n",
    "from transformers import AutoTokenizer, OPTForCausalLM\n",
    "from transformers import AutoTokenizer, AutoModelForCausalLM\n",
    "# tokenizer = AutoTokenizer.from_pretrained(\"facebook/galactica-120b\")\n",
    "# model = OPTForCausalLM.from_pretrained(\"facebook/galactica-120b\", device_map=\"auto\", load_in_8bit=True, cache_dir=\"/home/ec2-user/checkpoints\")"
   ]
  },
  {
   "cell_type": "code",
   "execution_count": null,
   "id": "21efb49e-397e-4810-9e6e-1a3e5df7dd1e",
   "metadata": {},
   "outputs": [],
   "source": []
  },
  {
   "cell_type": "code",
   "execution_count": 32,
   "id": "b1d03a48-3fa9-4f47-b7e7-d0d3b79ac4e9",
   "metadata": {},
   "outputs": [
    {
     "data": {
      "application/vnd.jupyter.widget-view+json": {
       "model_id": "be9f120f5b204588a490c99b110a4d0e",
       "version_major": 2,
       "version_minor": 0
      },
      "text/plain": [
       "Loading checkpoint shards:   0%|          | 0/7 [00:00<?, ?it/s]"
      ]
     },
     "metadata": {},
     "output_type": "display_data"
    }
   ],
   "source": [
    "tokenizer = AutoTokenizer.from_pretrained(\"GeorgiaTechResearchInstitute/galactica-30b-evol-instruct-70k\")\n",
    "model = AutoModelForCausalLM.from_pretrained(\"GeorgiaTechResearchInstitute/galactica-30b-evol-instruct-70k\", device_map=\"auto\", torch_dtype=torch.bfloat16, cache_dir=\"/home/ec2-user/checkpoints\")"
   ]
  },
  {
   "cell_type": "code",
   "execution_count": 33,
   "id": "e1351ff4-c818-477b-bb5c-c1516e8254d8",
   "metadata": {},
   "outputs": [],
   "source": [
    "def generate_answer(input_text, max_new_tokens=128, temperature=0.7, top_k=40):\n",
    "    input_ids = tokenizer(input_text, return_tensors=\"pt\").input_ids.to(\"cuda\")\n",
    "    outputs = model.generate(input_ids, max_new_tokens=max_new_tokens,\n",
    "                            top_k=top_k,\n",
    "                            do_sample=True,\n",
    "                            temperature=temperature,\n",
    "                            repetition_penalty=1.0,\n",
    "    )\n",
    "\n",
    "    # contrastive search\n",
    "    # outputs = model.generate(\n",
    "    #     input_ids,\n",
    "    #     max_new_tokens=max_new_tokens,\n",
    "    #     penalty_alpha=0.6, top_k=4,\n",
    "    # )\n",
    "    return tokenizer.decode(outputs[0])"
   ]
  },
  {
   "cell_type": "code",
   "execution_count": 34,
   "id": "146bb906-7072-45aa-8615-271b9eb8fded",
   "metadata": {},
   "outputs": [
    {
     "name": "stdout",
     "output_type": "stream",
     "text": [
      "### Instruction:\n",
      "Drug molecule structure: [START_I_SMILES] N[C@H](C(=O)N1[C@H]2C[C@H]2C[C@H]1C#N)C12CC3CC(CC(O)(C3)C1)C2 [END_I_SMILES]\n",
      "\n",
      "Target proteins:\n",
      "    DPP4 - dipeptidyl peptidase 4\n",
      "    F2 - coagulation factor II, thrombin\n",
      "    FAP - fibroblast activation protein alpha\n",
      "    F9 - coagulation factor IX\n",
      "    PRSS2 - serine protease 2\n",
      "    PLAT - plasminogen activator, tissue type\n",
      "    F10 - coagulation factor X\n",
      "    ACE - angiotensin I converting enzyme\n",
      "    DPP6 - dipeptidyl peptidase like 6\n",
      "    PRSS1 - serine protease 1\n",
      "\n",
      "Associated diseases:\n",
      "    diabetes mellitus (disease)\n",
      "    type 2 diabetes mellitus\n",
      "    coronary artery disease\n",
      "    obesity disorder\n",
      "    dysthymic disorder\n",
      "    monogenic obesity\n",
      "    neurotic disorder\n",
      "    diabetic ketoacidosis\n",
      "    bipolar disorder\n",
      "    bipolar II disorder\n",
      "    bipolar depression\n",
      "    bipolar I disorder\n",
      "\n",
      "Consider the associated diseases and the proteins this molecule targets, what are the main possible associated conditions and main pharmacodynamics of this small molecule drug?\n",
      "\n",
      "### Response:\n"
     ]
    }
   ],
   "source": [
    "prompt_template = \"\"\"### Instruction:\n",
    "{instruction}\n",
    "\n",
    "### Response:\"\"\"\n",
    "\n",
    "prompt = prompt_template.format_map(\n",
    "    {\"instruction\":f\"\"\"Drug molecule structure: [START_I_SMILES] {smiles} [END_I_SMILES]\n",
    "\n",
    "Target proteins:\n",
    "    DPP4 - dipeptidyl peptidase 4\n",
    "    F2 - coagulation factor II, thrombin\n",
    "    FAP - fibroblast activation protein alpha\n",
    "    F9 - coagulation factor IX\n",
    "    PRSS2 - serine protease 2\n",
    "    PLAT - plasminogen activator, tissue type\n",
    "    F10 - coagulation factor X\n",
    "    ACE - angiotensin I converting enzyme\n",
    "    DPP6 - dipeptidyl peptidase like 6\n",
    "    PRSS1 - serine protease 1\n",
    "\n",
    "Associated diseases:\n",
    "    diabetes mellitus (disease)\n",
    "    type 2 diabetes mellitus\n",
    "    coronary artery disease\n",
    "    obesity disorder\n",
    "    dysthymic disorder\n",
    "    monogenic obesity\n",
    "    neurotic disorder\n",
    "    diabetic ketoacidosis\n",
    "    bipolar disorder\n",
    "    bipolar II disorder\n",
    "    bipolar depression\n",
    "    bipolar I disorder\n",
    "\n",
    "Consider the associated diseases and the proteins this molecule targets, what are the main possible associated conditions and main pharmacodynamics of this small molecule drug?\"\"\",}\n",
    ")\n",
    "\n",
    "print(prompt)\n"
   ]
  },
  {
   "cell_type": "code",
   "execution_count": 35,
   "id": "6712c836-3805-4d5e-af9f-345aa9d771fc",
   "metadata": {},
   "outputs": [
    {
     "name": "stdout",
     "output_type": "stream",
     "text": [
      "### Instruction:\n",
      "Drug molecule structure: [START_I_SMILES] N[C@H](C(=O)N1[C@H]2C[C@H]2C[C@H]1C#N)C12CC3CC(CC(O)(C3)C1)C2 [END_I_SMILES]\n",
      "\n",
      "Target proteins:\n",
      "    DPP4 - dipeptidyl peptidase 4\n",
      "    F2 - coagulation factor II, thrombin\n",
      "    FAP - fibroblast activation protein alpha\n",
      "    F9 - coagulation factor IX\n",
      "    PRSS2 - serine protease 2\n",
      "    PLAT - plasminogen activator, tissue type\n",
      "    F10 - coagulation factor X\n",
      "    ACE - angiotensin I converting enzyme\n",
      "    DPP6 - dipeptidyl peptidase like 6\n",
      "    PRSS1 - serine protease 1\n",
      "\n",
      "Associated diseases:\n",
      "    diabetes mellitus (disease)\n",
      "    type 2 diabetes mellitus\n",
      "    coronary artery disease\n",
      "    obesity disorder\n",
      "    dysthymic disorder\n",
      "    monogenic obesity\n",
      "    neurotic disorder\n",
      "    diabetic ketoacidosis\n",
      "    bipolar disorder\n",
      "    bipolar II disorder\n",
      "    bipolar depression\n",
      "    bipolar I disorder\n",
      "\n",
      "Consider the associated diseases and the proteins this molecule targets, what are the main possible associated conditions and main pharmacodynamics of this small molecule drug?\n",
      "\n",
      "### Response:Based on the associated diseases and the proteins this molecule targets, the main possible associated conditions of this small molecule drug are type 2 diabetes, obesity, coronary artery disease, neurotic disorder, dysthymic disorder, monogenic obesity, diabetic ketoacidosis, and bipolar disorders. \n",
      "The main pharmacodynamics of this small molecule drug are its inhibitory effects on dipeptidyl peptidase 4 (DPP4) and fibroblast activation protein alpha (FAP), which may help manage type 2 diabetes and obesity. The drug may also have some effects on the coagulation cascade, potentially reducing the risk of coronary artery disease and other coagulation-related disorders. Additionally, the drug may have some anti-inflammatory effects through its inhibition of FAP, which may contribute to its efficacy in managing some neurotic and mood disorders. However, it's important to note that these pharmacodynamics are based on in vitro data and may not necessarily translate to in vivo effects or human clinical outcomes.</s>\n"
     ]
    }
   ],
   "source": [
    "outputs = generate_answer(prompt, max_new_tokens=256, temperature=1.0, top_k=50)\n",
    "print(outputs)"
   ]
  },
  {
   "cell_type": "code",
   "execution_count": null,
   "id": "5f472dde-e91e-49bf-8587-72d52a5eeecb",
   "metadata": {},
   "outputs": [],
   "source": []
  }
 ],
 "metadata": {
  "kernelspec": {
   "display_name": "Python 3 (ipykernel)",
   "language": "python",
   "name": "python3"
  },
  "language_info": {
   "codemirror_mode": {
    "name": "ipython",
    "version": 3
   },
   "file_extension": ".py",
   "mimetype": "text/x-python",
   "name": "python",
   "nbconvert_exporter": "python",
   "pygments_lexer": "ipython3",
   "version": "3.9.16"
  }
 },
 "nbformat": 4,
 "nbformat_minor": 5
}
