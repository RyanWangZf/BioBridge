{
 "cells": [
  {
   "cell_type": "markdown",
   "id": "a9e2f606-ab99-4b94-9b37-a35ea38f5bd9",
   "metadata": {},
   "source": [
    "### \"https://go.drugbank.com/structures/small_molecule_drugs/{drugbank_id}.smiles\""
   ]
  },
  {
   "cell_type": "code",
   "execution_count": 1,
   "id": "7ba7fcbe-1aac-4c20-859e-be0d8a46749e",
   "metadata": {},
   "outputs": [],
   "source": [
    "import pdb\n",
    "import os\n",
    "import json\n",
    "import pickle\n",
    "import torch\n",
    "import pandas as pd\n",
    "\n",
    "from src.model import BindingModel\n",
    "from src.inference import BridgeInference\n",
    "output_dir = \"./data/generation_data\""
   ]
  },
  {
   "cell_type": "code",
   "execution_count": 2,
   "id": "892419b7-8c79-415a-9b9e-8a12297bc6b1",
   "metadata": {},
   "outputs": [
    {
     "name": "stderr",
     "output_type": "stream",
     "text": [
      "/tmp/ipykernel_153872/2135776923.py:1: DtypeWarning: Columns (27) have mixed types. Specify dtype option on import or set low_memory=False.\n",
      "  df = pd.read_csv(\"./data/DrugBank/drugbank.csv\")\n"
     ]
    }
   ],
   "source": [
    "df = pd.read_csv(\"./data/DrugBank/drugbank.csv\")"
   ]
  },
  {
   "cell_type": "code",
   "execution_count": 3,
   "id": "4031a191-8d00-4184-b49f-73a081e6b126",
   "metadata": {},
   "outputs": [],
   "source": [
    "mol_df = df[df[\"type\"] == \"SmallMoleculeDrug\"]\n",
    "df_mol = pd.read_csv(\"/home/ec2-user/data/Processed/drug.csv\")\n",
    "mol_df = mol_df[~mol_df[\"moldb_smiles\"].isin(df_mol[\"smiles\"])]"
   ]
  },
  {
   "cell_type": "code",
   "execution_count": 4,
   "id": "4e7b3aa6-8054-4914-8b51-1f5b7b92e114",
   "metadata": {},
   "outputs": [],
   "source": [
    "mol_df = mol_df.drop_duplicates(subset=[\"moldb_smiles\"]).reset_index(drop=True)"
   ]
  },
  {
   "cell_type": "code",
   "execution_count": 5,
   "id": "b782b440-20a1-4ea7-9336-c99bbcc21de4",
   "metadata": {},
   "outputs": [
    {
     "data": {
      "text/plain": [
       "{'node_type': {'biological_process': 0,\n",
       "  'gene/protein': 1,\n",
       "  'disease': 2,\n",
       "  'effect/phenotype': 3,\n",
       "  'anatomy': 4,\n",
       "  'molecular_function': 5,\n",
       "  'drug': 6,\n",
       "  'cellular_component': 7,\n",
       "  'pathway': 8,\n",
       "  'exposure': 9},\n",
       " 'relation_type': {'expression present': 0,\n",
       "  'synergistic interaction': 1,\n",
       "  'interacts with': 2,\n",
       "  'ppi': 3,\n",
       "  'phenotype present': 4,\n",
       "  'parent-child': 5,\n",
       "  'associated with': 6,\n",
       "  'side effect': 7,\n",
       "  'contraindication': 8,\n",
       "  'expression absent': 9,\n",
       "  'target': 10,\n",
       "  'indication': 11,\n",
       "  'enzyme': 12,\n",
       "  'transporter': 13,\n",
       "  'off-label use': 14,\n",
       "  'linked to': 15,\n",
       "  'phenotype absent': 16,\n",
       "  'carrier': 17},\n",
       " 'emb_dim': {'molecular_function': 768,\n",
       "  'gene/protein': 2560,\n",
       "  'disease': 768,\n",
       "  'cellular_component': 768,\n",
       "  'drug': 512,\n",
       "  'biological_process': 768}}"
      ]
     },
     "execution_count": 5,
     "metadata": {},
     "output_type": "execute_result"
    }
   ],
   "source": [
    "{\n",
    "    \"node_type\": {\n",
    "        \"biological_process\": 0,\n",
    "        \"gene/protein\": 1,\n",
    "        \"disease\": 2,\n",
    "        \"effect/phenotype\": 3,\n",
    "        \"anatomy\": 4,\n",
    "        \"molecular_function\": 5,\n",
    "        \"drug\": 6,\n",
    "        \"cellular_component\": 7,\n",
    "        \"pathway\": 8,\n",
    "        \"exposure\": 9\n",
    "    },\n",
    "    \"relation_type\": {\n",
    "        \"expression present\": 0,\n",
    "        \"synergistic interaction\": 1,\n",
    "        \"interacts with\": 2,\n",
    "        \"ppi\": 3,\n",
    "        \"phenotype present\": 4,\n",
    "        \"parent-child\": 5,\n",
    "        \"associated with\": 6,\n",
    "        \"side effect\": 7,\n",
    "        \"contraindication\": 8,\n",
    "        \"expression absent\": 9,\n",
    "        \"target\": 10,\n",
    "        \"indication\": 11,\n",
    "        \"enzyme\": 12,\n",
    "        \"transporter\": 13,\n",
    "        \"off-label use\": 14,\n",
    "        \"linked to\": 15,\n",
    "        \"phenotype absent\": 16,\n",
    "        \"carrier\": 17\n",
    "    },\n",
    "    \"emb_dim\": {\n",
    "        \"molecular_function\": 768,\n",
    "        \"gene/protein\": 2560,\n",
    "        \"disease\": 768,\n",
    "        \"cellular_component\": 768,\n",
    "        \"drug\": 512,\n",
    "        \"biological_process\": 768\n",
    "    }\n",
    "}"
   ]
  },
  {
   "cell_type": "markdown",
   "id": "1ebfb673-5b49-4aa9-b54f-c5ecaaf48044",
   "metadata": {},
   "source": [
    "## Mol smiles input for Q&A"
   ]
  },
  {
   "cell_type": "code",
   "execution_count": 6,
   "id": "8d6ca007-b308-4dd3-a81a-74b84ad5f6af",
   "metadata": {},
   "outputs": [
    {
     "name": "stderr",
     "output_type": "stream",
     "text": [
      "2023-08-30 23:39:22 | unimol_tools/models/unimol.py | 114 | INFO | Uni-Mol(QSAR) | Loading pretrained weights from /home/ec2-user/miniconda3/envs/py39/lib/python3.9/site-packages/unimol_tools-1.0.0-py3.9.egg/unimol_tools/weights/mol_pre_all_h_220816.pt\n"
     ]
    }
   ],
   "source": [
    "# encode it using a protein encoder\n",
    "from src.drug_encoder import load_molecule_model, inference\n",
    "mol_model, tokenizer = load_molecule_model()"
   ]
  },
  {
   "cell_type": "code",
   "execution_count": 7,
   "id": "9a5ea776-bab1-4e07-965a-c0929bf142fd",
   "metadata": {},
   "outputs": [],
   "source": [
    "# load biobridge model\n",
    "checkpoint_dir = \"./checkpoints/bind-openke-benchmark-6-layer-unimol\"\n",
    "with open(os.path.join(checkpoint_dir, \"model_config.json\"), \"r\") as f:\n",
    "    model_config = json.load(f)\n",
    "model = BindingModel(**model_config)\n",
    "model.load_state_dict(torch.load(os.path.join(checkpoint_dir, \"pytorch_model.bin\")))\n",
    "model = BridgeInference(model)"
   ]
  },
  {
   "cell_type": "code",
   "execution_count": 8,
   "id": "9c5b866f-ab07-4171-8fc9-47cca595495d",
   "metadata": {},
   "outputs": [],
   "source": [
    "# load pre-encoded disease embeddings and project for retrieval\n",
    "with open(\"./data/embeddings/esm2b_unimo_pubmedbert/disease.pkl\", \"rb\") as f:\n",
    "    dis_raw = pickle.load(f)\n",
    "dis_emb = torch.tensor(dis_raw[\"embedding\"], dtype=torch.float32)\n",
    "dis_emb = model.project(\n",
    "    x = dis_emb,\n",
    "    src_type = 2,\n",
    ")\n",
    "dis_raw.keys()\n",
    "dis_idx = torch.tensor(dis_raw[\"node_index\"])\n",
    "# load disease node index to its descriptions\n",
    "df_dis = pd.read_csv(\"/home/ec2-user/data/Processed/disease.csv\")"
   ]
  },
  {
   "cell_type": "code",
   "execution_count": 9,
   "id": "78be2ef9-7088-4b05-8d5e-1dea3e64c2c4",
   "metadata": {},
   "outputs": [],
   "source": [
    "# load pre-encoded protein embeddings and project for retrieval\n",
    "with open(\"./data/embeddings/esm2b_unimo_pubmedbert/protein.pkl\", \"rb\") as f:\n",
    "    pro_raw = pickle.load(f)\n",
    "pro_emb = torch.tensor(pro_raw[\"embedding\"], dtype=torch.float32)\n",
    "pro_emb = model.project(\n",
    "    x = pro_emb,\n",
    "    src_type = 1,\n",
    ")\n",
    "pro_idx = torch.tensor(pro_raw[\"node_index\"])\n",
    "df_pro = pd.read_csv(\"/home/ec2-user/data/Processed/protein.csv\")"
   ]
  },
  {
   "cell_type": "markdown",
   "id": "6e03ad83-d575-42b6-b9bc-70abd08553be",
   "metadata": {},
   "source": [
    "# start encoding and retrieval"
   ]
  },
  {
   "cell_type": "code",
   "execution_count": 10,
   "id": "d1b492e3-aa04-4d00-93bc-6608184ae914",
   "metadata": {},
   "outputs": [
    {
     "name": "stdout",
     "output_type": "stream",
     "text": [
      "Ranitidine\n",
      "CN\\C(NCCSCC1=CC=C(CN(C)C)O1)=C/[N+]([O-])=O\n",
      "DB00863\n"
     ]
    }
   ],
   "source": [
    "# select a sample\n",
    "mol = mol_df.iloc[15]\n",
    "name, smiles = mol[\"title\"], mol[\"moldb_smiles\"]\n",
    "print(name)\n",
    "print(smiles)\n",
    "print(mol[\"drugbank_id\"])"
   ]
  },
  {
   "cell_type": "code",
   "execution_count": 11,
   "id": "b844d129-ebe2-4365-a727-efe1f0b892dc",
   "metadata": {},
   "outputs": [
    {
     "name": "stderr",
     "output_type": "stream",
     "text": [
      "2023-08-30 23:39:33 | unimol_tools/data/conformer.py | 62 | INFO | Uni-Mol(QSAR) | Start generating conformers...\n",
      "1it [00:00, 13.55it/s]\n",
      "2023-08-30 23:39:33 | unimol_tools/data/conformer.py | 66 | INFO | Uni-Mol(QSAR) | Failed to generate conformers for 0.00% of molecules.\n",
      "2023-08-30 23:39:33 | unimol_tools/data/conformer.py | 68 | INFO | Uni-Mol(QSAR) | Failed to generate 3d conformers for 0.00% of molecules.\n",
      "                                                                                                                                                                                         \r"
     ]
    },
    {
     "data": {
      "text/plain": [
       "tensor([-0.0657, -0.9442, -0.7864, -0.2025, -0.6477, -1.4753,  1.1976,  0.6430,\n",
       "        -0.4422,  1.5850])"
      ]
     },
     "execution_count": 11,
     "metadata": {},
     "output_type": "execute_result"
    }
   ],
   "source": [
    "mol_raw_emb = inference(mol_model, smiles)\n",
    "mol_raw_emb = torch.tensor(mol_raw_emb, dtype=torch.float32)\n",
    "mol_raw_emb[0][:10]"
   ]
  },
  {
   "cell_type": "code",
   "execution_count": 12,
   "id": "e08d13c5-9a0d-4877-8560-2c7d92c62449",
   "metadata": {},
   "outputs": [],
   "source": [
    "# transform raw seq embeddings to the disease space\n",
    "tr_dis_emb = model.transform(\n",
    "    x = mol_raw_emb,\n",
    "    src_type = 6, # drug\n",
    "    tgt_type = 2, # disease\n",
    "    rel_type = 11, # indication\n",
    ")\n",
    "\n",
    "# transform raw seq embeddings to the protein space\n",
    "tr_pro_emb = model.transform(\n",
    "    x = mol_raw_emb,\n",
    "    src_type = 6, # drug\n",
    "    tgt_type = 1, # protein\n",
    "    rel_type = 10, # target\n",
    ")"
   ]
  },
  {
   "cell_type": "code",
   "execution_count": 13,
   "id": "1954f83b-c87d-479f-8cd1-faa6535876c2",
   "metadata": {},
   "outputs": [
    {
     "data": {
      "text/plain": [
       "tensor([-0.2112,  0.0892,  0.2597, -1.3143, -0.0588, -0.2926,  0.0403,  1.0763,\n",
       "        -1.2507,  0.4479])"
      ]
     },
     "execution_count": 13,
     "metadata": {},
     "output_type": "execute_result"
    }
   ],
   "source": [
    "tr_dis_emb[0][:10]"
   ]
  },
  {
   "cell_type": "code",
   "execution_count": 14,
   "id": "2c9d9592-4e1b-47b6-8567-60f7f1397e52",
   "metadata": {},
   "outputs": [],
   "source": [
    "def retrieve_topk_disease(tgt, topk=10):\n",
    "    \"\"\"Args:\n",
    "    tgt: emb with [1, dim]\n",
    "    \"\"\"\n",
    "    cossim = torch.cosine_similarity(tgt, dis_emb, dim=1)\n",
    "    top_k = torch.topk(cossim, k=topk, dim=0)\n",
    "    retrieved_dis = df_dis.set_index('node_index').loc[dis_idx[top_k.indices].numpy()]\n",
    "    return retrieved_dis\n",
    "\n",
    "\n",
    "def retrieve_topk_protein(tgt, topk=10):\n",
    "    \"\"\"Args:\n",
    "    tgt: emb with [1, dim]\n",
    "    \"\"\"\n",
    "    cossim = torch.cosine_similarity(tgt, pro_emb, dim=1)\n",
    "    top_k = torch.topk(cossim, k=topk, dim=0)\n",
    "    retrieved = df_pro.set_index('node_index').loc[pro_idx[top_k.indices].numpy()]\n",
    "    return retrieved"
   ]
  },
  {
   "cell_type": "code",
   "execution_count": 15,
   "id": "7abee3e5-b307-4d7b-b640-4606b1605df1",
   "metadata": {},
   "outputs": [
    {
     "name": "stdout",
     "output_type": "stream",
     "text": [
      "conjunctivitis (disease)\n",
      "duodenal ulcer (disease)\n",
      "pulmonary embolism (disease)\n",
      "gastroenteritis\n",
      "chronic duodenal ileus\n",
      "peptic ulcer disease\n",
      "intralobar congenital pulmonary sequestration\n",
      "Echovirus infectious disease\n",
      "trachoma\n",
      "lower respiratory tract disease\n"
     ]
    }
   ],
   "source": [
    "res_dis = retrieve_topk_disease(tr_dis_emb, 10)\n",
    "for v in res_dis[\"mondo_name\"].unique():\n",
    "    print(v)"
   ]
  },
  {
   "cell_type": "code",
   "execution_count": 16,
   "id": "37ef6129-ef12-4942-89a8-2bb0040af0ed",
   "metadata": {},
   "outputs": [
    {
     "name": "stdout",
     "output_type": "stream",
     "text": [
      "NOS2\n",
      "NOS3\n",
      "GSTP1\n",
      "GSTA2\n",
      "GSTA1\n",
      "GSTM2\n",
      "GSTM1\n",
      "GSTA5\n",
      "GSTM4\n",
      "PTGS2\n",
      "MACPWKFLFKTKFHQYAMNGEKDINNNVEKAPCATSSPVTQDDLQYHNLSKQQNESPQPLVETGKKSPESLVKLDATPLSSPRHVRIKNWGSGMTFQDTLHHKAKGILTCRSKSCLGSIMTPKSLTRGPRDKPTPPDELLPQAIEFVNQYYGSFKEAKIEEHLARVEAVTKEIETTGTYQLTGDELIFATKQAWRNAPRCIGRIQWSNLQVFDARSCSTAREMFEHICRHVRYSTNNGNIRSAITVFPQRSDGKHDFRVWNAQLIRYAGYQMPDGSIRGDPANVEFTQLCIDLGWKPKYGRFDVVPLVLQANGRDPELFEIPPDLVLEVAMEHPKYEWFRELELKWYALPAVANMLLEVGGLEFPGCPFNGWYMGTEIGVRDFCDVQRYNILEEVGRRMGLETHKLASLWKDQAVVEINIAVLHSFQKQNVTIMDHHSAAESFMKYMQNEYRSRGGCPADWIWLVPPMSGSITPVFHQEMLNYVLSPFYYYQVEAWKTHVWQDEKRRPKRREIPLKVLVKAVLFACMLMRKTMASRVRVTILFATETGKSEALAWDLGALFSCAFNPKVVCMDKYRLSCLEEERLLLVVTSTFGNGDCPGNGEKLKKSLFMLKELNNKFRYAVFGLGSSMYPRFCAFAHDIDQKLSHLGASQLTPMGEGDELSGQEDAFRSWAVQTFKAACETFDVRGKQHIQIPKLYTSNVTWDPHHYRLVQDSQPLDLSKALSSMHAKNVFTMRLKSRQNLQSPTSSRATILVELSCEDGQGLNYLPGEHLGVCPGNQPALVQGILERVVDGPTPHQTVRLEALDESGSYWVSDKRLPPCSLSQALTYFLDITTPPTQLLLQKLAQVATEEPERQRLEALCQPSEYSKWKFTNSPTFLEVLEEFPSLRVSAGFLLSQLPILKPRFYSISSSRDHTPTEIHLTVAVVTYHTRDGQGPLHHGVCSTWLNSLKPQDPVPCFVRNASGFHLPEDPSHPCILIGPGTGIAPFRSFWQQRLHDSQHKGVRGGRMTLVFGCRRPDEDHIYQEEMLEMAQKGVLHAVHTAYSRLPGKPKVYVQDILRQQLASEVLRVLHKEPGHLYVCGDVRMARDVAHTLKQLVAAKLKLNEEQVEDYFFQLKSQKRYHEDIFGAVFPYEAKKDRVAVQPSSLEMSAL\n",
      "MGNLKSVAQEPGPPCGLGLGLGLGLCGKQGPATPAPEPSRAPASLLPPAPEHSPPSSPLTQPPEGPKFPRVKNWEVGSITYDTLSAQAQQDGPCTPRRCLGSLVFPRKLQGRPSPGPPAPEQLLSQARDFINQYYSSIKRSGSQAHEQRLQEVEAEVAATGTYQLRESELVFGAKQAWRNAPRCVGRIQWGKLQVFDARDCRSAQEMFTYICNHIKYATNRGNLRSAITVFPQRCPGRGDFRIWNSQLVRYAGYRQQDGSVRGDPANVEITELCIQHGWTPGNGRFDVLPLLLQAPDDPPELFLLPPELVLEVPLEHPTLEWFAALGLRWYALPAVSNMLLEIGGLEFPAAPFSGWYMSTEIGTRNLCDPHRYNILEDVAVCMDLDTRTTSSLWKDKAAVEINVAVLHSYQLAKVTIVDHHAATASFMKHLENEQKARGGCPADWAWIVPPISGSLTPVFHQEMVNYFLSPAFRYQPDPWKGSAAKGTGITRKKTFKEVANAVKISASLMGTVMAKRVKATILYGSETGRAQSYAQQLGRLFRKAFDPRVLCMDEYDVVSLEHETLVLVVTSTFGNGDPPENGESFAAALMEMSGPYNSSPRPEQHKSYKIRFNSISCSDPLVSSWRRKRKESSNTDSAGALGTLRFCVFGLGSRAYPHFCAFARAVDTRLEELGGERLLQLGQGDELCGQEEAFRGWAQAAFQAACETFCVGEDAKAAARDIFSPKRSWKRQRYRLSAQAEGLQLLPGLIHVHRRKMFQATIRSVENLQSSKSTRATILVRLDTGGQEGLQYQPGDHIGVCPPNRPGLVEALLSRVEDPPAPTEPVAVEQLEKGSPGGPPPGWVRDPRLPPCTLRQALTFFLDITSPPSPQLLRLLSTLAEEPREQQELEALSQDPRRYEEWKWFRCPTLLEVLEQFPSVALPAPLLLTQLPLLQPRYYSVSSAPSTHPGEIHLTVAVLAYRTQDGLGPLHYGVCSTWLSQLKPGDPVPCFIRGAPSFRLPPDPSLPCILVGPGTGIAPFRGFWQERLHDIESKGLQPTPMTLVFGCRCSQLDHLYRDEVQNAQQRGVFGRVLTAFSREPDNPKTYVQDILRTELAAEVHRVLCLERGHMFVCGDVTMATNVLQTVQRILATEGDMELDEAGDVIGVLRDQQRYHEDIFGLTLRTQEVTSRIRTQSFSLQERQLRGAVPWAFDPPGSDTNSP\n",
      "MPPYTVVYFPVRGRCAALRMLLADQGQSWKEEVVTVETWQEGSLKASCLYGQLPKFQDGDLTLYQSNTILRHLGRTLGLYGKDQQEAALVDMVNDGVEDLRCKYISLIYTNYEAGKDDYVKALPGQLKPFETLLSQNQGGKTFIVGDQISFADYNLLDLLLIHEVLAPGCLDAFPLLSAYVGRLSARPKLKAFLASPEYVNLPINGNGKQ\n",
      "MAEKPKLHYSNIRGRMESIRWLLAAAGVEFEEKFIKSAEDLDKLRNDGYLMFQQVPMVEIDGMKLVQTRAILNYIASKYNLYGKDIKEKALIDMYIEGIADLGEMILLLPFSQPEEQDAKLALIQEKTKNRYFPAFEKVLKSHGQDYLVGNKLSRADIHLVELLYYVEELDSSLISSFPLLKALKTRISNLPTVKKFLQPGSPRKPPMDEKSLEESRKIFRF\n",
      "MAEKPKLHYFNARGRMESTRWLLAAAGVEFEEKFIKSAEDLDKLRNDGYLMFQQVPMVEIDGMKLVQTRAILNYIASKYNLYGKDIKERALIDMYIEGIADLGEMILLLPVCPPEEKDAKLALIKEKIKNRYFPAFEKVLKSHGQDYLVGNKLSRADIHLVELLYYVEELDSSLISSFPLLKALKTRISNLPTVKKFLQPGSPRKPPMDEKSLEEARKIFRF\n",
      "MPMTLGYWNIRGLAHSIRLLLEYTDSSYEEKKYTMGDAPDYDRSQWLNEKFKLGLDFPNLPYLIDGTHKITQSNAILRYIARKHNLCGESEKEQIREDILENQFMDSRMQLAKLCYDPDFEKLKPEYLQALPEMLKLYSQFLGKQPWFLGDKITFVDFIAYDVLERNQVFEPSCLDAFPNLKDFISRFEGLEKISAYMKSSRFLPRPVFTKMAVWGNK\n",
      "MPMILGYWDIRGLAHAIRLLLEYTDSSYEEKKYTMGDAPDYDRSQWLNEKFKLGLDFPNLPYLIDGAHKITQSNAILCYIARKHNLCGETEEEKIRVDILENQTMDNHMQLGMICYNPEFEKLKPKYLEELPEKLKLYSEFLGKRPWFAGNKITFVDFLVYDVLDLHRIFEPKCLDAFPNLKDFISRFEGLEKISAYMKSSRFLPRPVFSKMAVWGNK\n",
      "MAEKPKLHYSNARGSMESIRWLLAAAGVELEEKFLESAEDLDKLRNDGSLLFQQVPMVEIDGMKLVQTRAILNYIASKYNLYGKDMKERALIDMYTEGIVDLTEMILLLLICQPEERDAKTALVKEKIKNRYFPAFEKVLKSHRQDYLVGNKLSWADIHLVELFYYVEELDSSLISSFPLLKALKTRISNLPTVKKFLQPGSQRKPPMDEKSLEEARKIFRF\n",
      "MSMTLGYWDIRGLAHAIRLLLEYTDSSYEEKKYTMGDAPDYDRSQWLNEKFKLGLDFPNLPYLIDGAHKITQSNAILCYIARKHNLCGETEEEKIRVDILENQAMDVSNQLARVCYSPDFEKLKPEYLEELPTMMQHFSQFLGKRPWFVGDKITFVDFLAYDVLDLHRIFEPNCLDAFPNLKDFISRFEGLEKISAYMKSSRFLPKPLYTRVAVWGNK\n",
      "MLARALLLCAVLALSHTANPCCSHPCQNRGVCMSVGFDQYKCDCTRTGFYGENCSTPEFLTRIKLFLKPTPNTVHYILTHFKGFWNVVNNIPFLRNAIMSYVLTSRSHLIDSPPTYNADYGYKSWEAFSNLSYYTRALPPVPDDCPTPLGVKGKKQLPDSNEIVEKLLLRRKFIPDPQGSNMMFAFFAQHFTHQFFKTDHKRGPAFTNGLGHGVDLNHIYGETLARQRKLRLFKDGKMKYQIIDGEMYPPTVKDTQAEMIYPPQVPEHLRFAVGQEVFGLVPGLMMYATIWLREHNRVCDVLKQEHPEWGDEQLFQTSRLILIGETIKIVIEDYVQHLSGYHFKLKFDPELLFNKQFQYQNRIAAEFNTLYHWHPLLPDTFQIHDQKYNYQQFIYNNSILLEHGITQFVESFTRQIAGRVAGGRNVPPAVQKVSQASIDQSRQMKYQSFNEYRKRFMLKPYESFEELTGEKEMSAELEALYGDIDAVELYPALLVEKPRPDAIFGETMVEVGAPFSLKGLMGNVICSPAYWKPSTFGGEVGFQIINTASIQSLICNNVKGCPFTSFSVPDPELIKTVTINASSSRSGLDDINPTVLLKERSTEL\n"
     ]
    }
   ],
   "source": [
    "res_pro = retrieve_topk_protein(tr_pro_emb, 10)\n",
    "for v in res_pro[\"node_name\"]:\n",
    "    print(v)\n",
    "for v in res_pro[\"sequence\"]:\n",
    "    print(v)"
   ]
  },
  {
   "cell_type": "markdown",
   "id": "48469e4e-2354-4db4-9de0-084916f9d38e",
   "metadata": {},
   "source": [
    "## Galactica for generating the answer"
   ]
  },
  {
   "cell_type": "code",
   "execution_count": 17,
   "id": "30994ccd-f801-4463-9405-392049ff647b",
   "metadata": {},
   "outputs": [
    {
     "name": "stdout",
     "output_type": "stream",
     "text": [
      "\n",
      "===================================BUG REPORT===================================\n",
      "Welcome to bitsandbytes. For bug reports, please run\n",
      "\n",
      "python -m bitsandbytes\n",
      "\n",
      " and submit this information together with your error trace to: https://github.com/TimDettmers/bitsandbytes/issues\n",
      "================================================================================\n",
      "CUDA SETUP: CUDA runtime path found: /usr/local/cuda/targets/x86_64-linux/lib/libcudart.so.11.0\n",
      "CUDA SETUP: Highest compute capability among GPUs detected: 8.6\n",
      "CUDA SETUP: Detected CUDA version 118\n",
      "CUDA SETUP: Loading binary /home/ec2-user/miniconda3/envs/py39/lib/python3.9/site-packages/bitsandbytes/libbitsandbytes_cuda118.so...\n"
     ]
    }
   ],
   "source": [
    "import torch\n",
    "from transformers import AutoTokenizer, OPTForCausalLM\n",
    "from transformers import AutoTokenizer, AutoModelForCausalLM\n",
    "# tokenizer = AutoTokenizer.from_pretrained(\"facebook/galactica-120b\")\n",
    "# model = OPTForCausalLM.from_pretrained(\"facebook/galactica-120b\", device_map=\"auto\", load_in_8bit=True, cache_dir=\"/home/ec2-user/checkpoints\")"
   ]
  },
  {
   "cell_type": "code",
   "execution_count": null,
   "id": "21efb49e-397e-4810-9e6e-1a3e5df7dd1e",
   "metadata": {},
   "outputs": [],
   "source": []
  },
  {
   "cell_type": "code",
   "execution_count": 18,
   "id": "b1d03a48-3fa9-4f47-b7e7-d0d3b79ac4e9",
   "metadata": {},
   "outputs": [
    {
     "data": {
      "application/vnd.jupyter.widget-view+json": {
       "model_id": "663e1bc7a8d94b83a763fb6d1f22405b",
       "version_major": 2,
       "version_minor": 0
      },
      "text/plain": [
       "Loading checkpoint shards:   0%|          | 0/7 [00:00<?, ?it/s]"
      ]
     },
     "metadata": {},
     "output_type": "display_data"
    }
   ],
   "source": [
    "tokenizer = AutoTokenizer.from_pretrained(\"GeorgiaTechResearchInstitute/galactica-30b-evol-instruct-70k\")\n",
    "model = AutoModelForCausalLM.from_pretrained(\"GeorgiaTechResearchInstitute/galactica-30b-evol-instruct-70k\", device_map=\"auto\", torch_dtype=torch.bfloat16, cache_dir=\"/home/ec2-user/checkpoints\")"
   ]
  },
  {
   "cell_type": "code",
   "execution_count": 19,
   "id": "e1351ff4-c818-477b-bb5c-c1516e8254d8",
   "metadata": {},
   "outputs": [],
   "source": [
    "def generate_answer(input_text, max_new_tokens=128, temperature=0.7, top_k=40):\n",
    "    input_ids = tokenizer(input_text, return_tensors=\"pt\").input_ids.to(\"cuda\")\n",
    "    outputs = model.generate(input_ids, max_new_tokens=max_new_tokens,\n",
    "                            top_k=top_k,\n",
    "                            do_sample=True,\n",
    "                            temperature=temperature,\n",
    "                            repetition_penalty=1.0,\n",
    "    )\n",
    "\n",
    "    # contrastive search\n",
    "    # outputs = model.generate(\n",
    "    #     input_ids,\n",
    "    #     max_new_tokens=max_new_tokens,\n",
    "    #     penalty_alpha=0.6, top_k=4,\n",
    "    # )\n",
    "    return tokenizer.decode(outputs[0])"
   ]
  },
  {
   "cell_type": "code",
   "execution_count": 29,
   "id": "146bb906-7072-45aa-8615-271b9eb8fded",
   "metadata": {},
   "outputs": [
    {
     "name": "stdout",
     "output_type": "stream",
     "text": [
      "### Instruction:\n",
      "Drug molecule structure: [START_I_SMILES] CN\\C(NCCSCC1=CC=C(CN(C)C)O1)=C/[N+]([O-])=O [END_I_SMILES]\n",
      "\n",
      "Target proteins:\n",
      "    nitric oxide synthase 2\n",
      "    nitric oxide synthase 3\n",
      "    glutathione S-transferase pi 1\n",
      "    glutathione S-transferase alpha 2\n",
      "    glutathione S-transferase alpha 1\n",
      "    glutathione S-transferase mu 2\n",
      "    glutathione S-transferase mu 1\n",
      "    glutathione S-transferase alpha 5\n",
      "    glutathione S-transferase mu 4\n",
      "    prostaglandin-endoperoxide synthase 2\n",
      "\n",
      "Associated diseases:\n",
      "    conjunctivitis (disease)\n",
      "    pulmonary embolism (disease)\n",
      "    gastroenteritis\n",
      "    chronic duodenal ileus\n",
      "    peptic ulcer disease\n",
      "    Echovirus infectious disease\n",
      "\n",
      "Consider the associated diseases and the proteins this molecule targets, what are the main possible associated conditions and main pharmacodynamics of this small molecule drug? \n",
      "\n",
      "### Response:\n"
     ]
    }
   ],
   "source": [
    "prompt_template = \"\"\"### Instruction:\n",
    "{instruction}\n",
    "\n",
    "### Response:\"\"\"\n",
    "\n",
    "prompt = prompt_template.format_map(\n",
    "    {\"instruction\":f\"\"\"Drug molecule structure: [START_I_SMILES] {smiles} [END_I_SMILES]\n",
    "\n",
    "Target proteins:\n",
    "    nitric oxide synthase 2\n",
    "    nitric oxide synthase 3\n",
    "    glutathione S-transferase pi 1\n",
    "    glutathione S-transferase alpha 2\n",
    "    glutathione S-transferase alpha 1\n",
    "    glutathione S-transferase mu 2\n",
    "    glutathione S-transferase mu 1\n",
    "    glutathione S-transferase alpha 5\n",
    "    glutathione S-transferase mu 4\n",
    "    prostaglandin-endoperoxide synthase 2\n",
    "\n",
    "Associated diseases:\n",
    "    conjunctivitis (disease)\n",
    "    pulmonary embolism (disease)\n",
    "    gastroenteritis\n",
    "    chronic duodenal ileus\n",
    "    peptic ulcer disease\n",
    "    Echovirus infectious disease\n",
    "\n",
    "Consider the associated diseases and the proteins this molecule targets, what are the main possible associated conditions and main pharmacodynamics of this small molecule drug? \"\"\",}\n",
    ")\n",
    "\n",
    "print(prompt)\n"
   ]
  },
  {
   "cell_type": "code",
   "execution_count": 30,
   "id": "6712c836-3805-4d5e-af9f-345aa9d771fc",
   "metadata": {},
   "outputs": [
    {
     "name": "stdout",
     "output_type": "stream",
     "text": [
      "### Instruction:\n",
      "Drug molecule structure: [START_I_SMILES] CN\\C(NCCSCC1=CC=C(CN(C)C)O1)=C/[N+]([O-])=O [END_I_SMILES]\n",
      "\n",
      "Target proteins:\n",
      "    nitric oxide synthase 2\n",
      "    nitric oxide synthase 3\n",
      "    glutathione S-transferase pi 1\n",
      "    glutathione S-transferase alpha 2\n",
      "    glutathione S-transferase alpha 1\n",
      "    glutathione S-transferase mu 2\n",
      "    glutathione S-transferase mu 1\n",
      "    glutathione S-transferase alpha 5\n",
      "    glutathione S-transferase mu 4\n",
      "    prostaglandin-endoperoxide synthase 2\n",
      "\n",
      "Associated diseases:\n",
      "    conjunctivitis (disease)\n",
      "    pulmonary embolism (disease)\n",
      "    gastroenteritis\n",
      "    chronic duodenal ileus\n",
      "    peptic ulcer disease\n",
      "    Echovirus infectious disease\n",
      "\n",
      "Consider the associated diseases and the proteins this molecule targets, what are the main possible associated conditions and main pharmacodynamics of this small molecule drug? \n",
      "\n",
      "### Response:Based on the target proteins and associated diseases listed, the main possible associated conditions of this small molecule drug are:\n",
      "1. Conjunctivitis (disease)\n",
      "2. Pulmonary embolism (disease)\n",
      "3. Gastroenteritis\n",
      "4. Chronic duodenal ileus\n",
      "5. Peptic ulcer disease\n",
      "6. Echovirus infectious disease\n",
      "The main pharmacodynamics of this small molecule drug would depend on its interaction with the target proteins. As it targets nitric oxide synthase 2 and 3, it may have vasodilation and anti-inflammatory effects. As it targets glutathione S-transferase pi 1, alpha 2, alpha 1, mu 2, mu 1, alpha 5, mu 4, and prostaglandin-endoperoxide synthase 2, it may have antioxidant and anti-inflammatory effects. Additionally, as it is a small molecule drug, it may have a good ability to cross cell membranes and reach its targets quickly. Further research would be needed to determine the specific pharmacodynamics of this drug.</s>\n"
     ]
    }
   ],
   "source": [
    "outputs = generate_answer(prompt, max_new_tokens=256, temperature=1.0, top_k=50)\n",
    "print(outputs)"
   ]
  },
  {
   "cell_type": "code",
   "execution_count": null,
   "id": "5f472dde-e91e-49bf-8587-72d52a5eeecb",
   "metadata": {},
   "outputs": [],
   "source": []
  }
 ],
 "metadata": {
  "kernelspec": {
   "display_name": "Python 3 (ipykernel)",
   "language": "python",
   "name": "python3"
  },
  "language_info": {
   "codemirror_mode": {
    "name": "ipython",
    "version": 3
   },
   "file_extension": ".py",
   "mimetype": "text/x-python",
   "name": "python",
   "nbconvert_exporter": "python",
   "pygments_lexer": "ipython3",
   "version": "3.9.16"
  }
 },
 "nbformat": 4,
 "nbformat_minor": 5
}
